{
 "cells": [
  {
   "cell_type": "markdown",
   "id": "66f5084c",
   "metadata": {},
   "source": [
    "# Modeling Relationships"
   ]
  },
  {
   "cell_type": "markdown",
   "id": "de399962",
   "metadata": {},
   "source": [
    "To work with related objects we have two approaches:\n",
    "\n",
    "**Using References (Normalization):** We have separate collections for storing objects. In relational databases we have this concept of relationship wich enforces data itegrity. In no sql databases we don´t have a relationship\n",
    "\n",
    "**Using embbeded documents (Denormalization):** Instead of having a separte collection of authors we can embed an author document inside of a course document."
   ]
  },
  {
   "cell_type": "code",
   "execution_count": null,
   "id": "ba984335",
   "metadata": {},
   "outputs": [],
   "source": [
    "// Using References Normalization -- CONSISTENCY\n",
    "let author = {\n",
    "    name: 'Name',\n",
    "}\n",
    "\n",
    "let course = {\n",
    "    author: 'id' // this id is a reference to an author in authors collection\n",
    "}\n",
    "\n",
    "// Using Embedded Documents (Denormalization) -- PERFORMANCE\n",
    "let course = {\n",
    "    author: {\n",
    "        name: 'Name'\n",
    "    }\n",
    "}"
   ]
  },
  {
   "cell_type": "markdown",
   "id": "8b62ac06",
   "metadata": {},
   "source": [
    "- What approach to use depends of the aplications and its query requirements.\n",
    "- Basically we need to do a trade off between query performance vs consistency.\n",
    "- With the first approach we have consitency because if we need for example modify the name property of author, there is a single place that we need to modify and all courses that are reference in that author will immediatly see the update. Hiwever, everytime that we query a course, we need to do an extra query to load the related author.\n",
    "\n",
    "- With the second approach we can load de we can the course object and its author using a single query. However with this approach, we need make changes in multiple documents  "
   ]
  },
  {
   "cell_type": "markdown",
   "id": "15178b3a",
   "metadata": {},
   "source": [
    "**Hybrid:** For example, we have an author object with 50 properties, we dont want to duplicate those properties inside every course in the database (Denormalization approach). We can have a separate collection of authors but instead of using a reference (Normalization approach), we can embed an author document inside a course document but not the complte representation of that author, perhaps only te name propertie.\n",
    "\n",
    "With this approach we can quickly read a course object along its author so we can optimize the query performance, but we dont have to store all the properties about an author inside the course document. This approach is useful if we want to have a snapshot of our data at a point in time.\n",
    "\n",
    "For example in an e-comerce application there would have collections like orders, products, shopping carts nad so on. In each order we need to store a snapshot of a product because we want to know the price of that product at a given point in time."
   ]
  },
  {
   "cell_type": "code",
   "execution_count": null,
   "id": "fa20f187",
   "metadata": {},
   "outputs": [],
   "source": [
    "//Hybrid\n",
    "let author = {\n",
    "    name: 'Name'\n",
    "    // 50 other properties\n",
    "}\n",
    "\n",
    "let course = {\n",
    "    author:{\n",
    "        id: 'ref',\n",
    "        name; 'Name'\n",
    "    }\n",
    "}"
   ]
  },
  {
   "cell_type": "markdown",
   "id": "182f81e2",
   "metadata": {},
   "source": [
    "# Referencing Documents"
   ]
  },
  {
   "cell_type": "markdown",
   "id": "3247bae6",
   "metadata": {},
   "source": [
    "- We will reference a document in another document. We create a filed called *population.js* in wich we have two models: Author and Course."
   ]
  },
  {
   "cell_type": "code",
   "execution_count": null,
   "id": "05c41f7a",
   "metadata": {},
   "outputs": [],
   "source": [
    "//population.js\n",
    "//------------------------------------------------------------\n",
    "const mongoose = require('mongoose');\n",
    "\n",
    "mongoose.connect('mongodb://localhost/playground')\n",
    "    .then(() => console.log('Connected to MongoDB...'))\n",
    "    .catch(err => console.error('Could not connect to MongoDB...', err))\n",
    "\n",
    "const Author = mongoose.model('Author', new mongoose.Schema({\n",
    "    name:String,\n",
    "    bio: String,\n",
    "    website: String\n",
    "}));\n",
    "\n",
    "const Course = mongoose.model('Course', new mongoose.Schema({\n",
    "    name:String\n",
    "}));\n",
    "\n",
    "async function createAuthor(name, bio, website){\n",
    "    let author = new Author({\n",
    "        name,\n",
    "        bio,\n",
    "        website\n",
    "    });\n",
    "    author = await author.save();\n",
    "    console.log(author);\n",
    "}\n",
    "\n",
    "async function createCourse(name, author){\n",
    "    let course = new Course({\n",
    "        name: name,\n",
    "        author: author\n",
    "    });\n",
    "    course = await course.save();\n",
    "    console.log(course);\n",
    "}\n",
    "\n",
    "async function listCourses(){\n",
    "    const courses = await Course\n",
    "        .find()\n",
    "        .select('name author');\n",
    "    \n",
    "    console.log(courses);\n",
    "    \n",
    "}\n",
    "\n",
    "// createAuthor('Sebastian', 'MyBio', 'My Website');\n",
    "\n",
    "createCourse('My Course', '62f16ce495d56688b86b79d9');"
   ]
  },
  {
   "cell_type": "markdown",
   "id": "5ca493c0",
   "metadata": {},
   "source": [
    "- We first create a new author:\n",
    "    \n",
    "    **output:** Connected to MongoDB...\n",
    "    {\n",
    "      name: 'Sebastian',\n",
    "      bio: 'MyBio',\n",
    "      website: 'My Website',\n",
    "      _id: new ObjectId(\"62f16ce495d56688b86b79d9\"),\n",
    "      __v: 0\n",
    "    }\n",
    "\n",
    "- Then we create a new course referencing the created author by id:  \n",
    "\n",
    "    **output:**\n",
    "    Connected to MongoDB...\n",
    "    {\n",
    "      name: 'My Course',\n",
    "      _id: new ObjectId(\"62f16e44094b19b6e815d80b\"),\n",
    "      __v: 0\n",
    "    }\n",
    "    \n",
    "We can see that created course does not have the **author** propertie. The reason is that when we define the *Course* model we did not add the *author* propertie. When we save the object, only the properties that we define in the model will be persistent in the database.\n",
    "\n",
    "We add the author property to the Course model. Its type will be **mongoose.Schema.Types.ObjectId** and **ref** to Author \n",
    "In this sense, this *author* propertie would store an object ID that references an *Author* document. However we dont really have a relationship here because we can store a course with an invalid author and mongo does not complain about that.\n"
   ]
  },
  {
   "cell_type": "code",
   "execution_count": null,
   "id": "c4315893",
   "metadata": {},
   "outputs": [],
   "source": [
    "    .\n",
    "    .\n",
    "    .\n",
    "const Course = mongoose.model('Course', new mongoose.Schema({\n",
    "    name:String,\n",
    "    author: {\n",
    "        type: mongoose.Schema.Types.ObjectId,\n",
    "        ref: 'Author'\n",
    "    }\n",
    "}));\n",
    "    .\n",
    "    .\n",
    "    .\n",
    "    \n",
    "//console\n",
    "//C:\\Users\\sebastian\\Desktop\\nodejs\\09_Mongoose- Relationships between Connected Data>node population.js\n",
    "\n",
    "    \n",
    "//output\n",
    "// Connected to MongoDB...\n",
    "// {\n",
    "//   name: 'My Course',\n",
    "//   author: new ObjectId(\"62f16ce495d56688b86b79d9\"),\n",
    "//   _id: new ObjectId(\"62f1727130ce4880049647da\"),\n",
    "//   __v: 0\n",
    "// }"
   ]
  },
  {
   "cell_type": "markdown",
   "id": "28a049ab",
   "metadata": {},
   "source": [
    "# Population"
   ]
  },
  {
   "cell_type": "markdown",
   "id": "82786616",
   "metadata": {},
   "source": [
    "- The output of **listCourses** is:\n",
    "    \n",
    "    Connected to MongoDB...\n",
    "    [\n",
    "      { _id: new ObjectId(\"62f16e44094b19b6e815d80b\"), name: 'My Course' },\n",
    "      {\n",
    "        _id: new ObjectId(\"62f1727130ce4880049647da\"),\n",
    "        name: 'My Course',\n",
    "        author: new ObjectId(\"62f16ce495d56688b86b79d9\")\n",
    "      }\n",
    "    ]\n",
    "    \n",
    " We can see that in the second course the author property just show the id. In a real world application we want to load this author document and display its name. For this we use the **populate** method, with **author** as a neame of the target property."
   ]
  },
  {
   "cell_type": "code",
   "execution_count": null,
   "id": "9ed5bfd1",
   "metadata": {},
   "outputs": [],
   "source": [
    "    .\n",
    "    .\n",
    "    .\n",
    "async function listCourses(){\n",
    "    const courses = await Course\n",
    "        .find()\n",
    "        .populate('author')\n",
    "        .select('name author');\n",
    "    \n",
    "    console.log(courses);\n",
    "    \n",
    "}\n",
    "\n",
    "// createAuthor('Sebastian', 'MyBio', 'My Website');\n",
    "// createCourse('My Course', '62f16ce495d56688b86b79d9');\n",
    "listCourses();\n",
    "\n"
   ]
  },
  {
   "cell_type": "markdown",
   "id": "ab58ce81",
   "metadata": {},
   "source": [
    "We can see that after using **populate** method, output shows the author properties:\n",
    "\n",
    "    Connected to MongoDB...\n",
    "    [\n",
    "      { _id: new ObjectId(\"62f16e44094b19b6e815d80b\"), name: 'My Course' },\n",
    "      {\n",
    "        _id: new ObjectId(\"62f1727130ce4880049647da\"),\n",
    "        name: 'My Course',\n",
    "        author: {\n",
    "          _id: new ObjectId(\"62f16ce495d56688b86b79d9\"),\n",
    "          name: 'Sebastian',\n",
    "          bio: 'MyBio',\n",
    "          website: 'My Website',\n",
    "          __v: 0\n",
    "        }\n",
    "      }\n",
    "    ]"
   ]
  },
  {
   "cell_type": "markdown",
   "id": "63a0f5e1",
   "metadata": {},
   "source": [
    "We can especify the properties we want to include/exclude in the second argument of **populate**. To show just the name propertie, we add 'name', and, to exclude the _id property we use '-_id' as a second argument"
   ]
  },
  {
   "cell_type": "code",
   "execution_count": null,
   "id": "fc87c70f",
   "metadata": {},
   "outputs": [],
   "source": [
    "    .\n",
    "    .\n",
    "    .\n",
    "async function listCourses(){\n",
    "    const courses = await Course\n",
    "        .find()\n",
    "        .populate('author', 'name -_id')\n",
    "        .select('name author');\n",
    "    \n",
    "    console.log(courses);\n",
    "    \n",
    "}\n",
    "\n",
    "// createAuthor('Sebastian', 'MyBio', 'My Website');\n",
    "// createCourse('My Course', '62f16ce495d56688b86b79d9');\n",
    "listCourses();\n",
    "\n",
    "\n",
    "// output\n",
    "//------------------------------------------------------------------------\n",
    "// Connected to MongoDB...\n",
    "// [\n",
    "//   { _id: new ObjectId(\"62f16e44094b19b6e815d80b\"), name: 'My Course' },\n",
    "//   {\n",
    "//     _id: new ObjectId(\"62f1727130ce4880049647da\"),\n",
    "//     name: 'My Course',\n",
    "//     author: {\n",
    "//       name: 'Sebastian'\n",
    "//     }\n",
    "//   }\n",
    "// ]"
   ]
  },
  {
   "cell_type": "markdown",
   "id": "39170f90",
   "metadata": {},
   "source": [
    "# Embedding Documents"
   ]
  },
  {
   "cell_type": "markdown",
   "id": "2f4f6239",
   "metadata": {},
   "source": [
    "- In this lecture we are going to emmbed an **author** document directly iniside of a course document. To do this, we first define an **authorSchema** outside model definition. Then, in the **Course** model we define author property as *authorSchema* type.\n",
    "\n",
    "- We can see that author property of the created course is an object with a name and id; Ths is an embedded or subdocument. Subdocuments are like documents; most of features that ae available to normal documents, are also available in subdocuments. "
   ]
  },
  {
   "cell_type": "code",
   "execution_count": null,
   "id": "c7e40749",
   "metadata": {},
   "outputs": [],
   "source": [
    "//embedding.js\n",
    "//------------------------------------------------------------\n",
    "const mongoose = require('mongoose');\n",
    "\n",
    "mongoose.connect('mongodb://localhost/playground')\n",
    "    .then(() => console.log('Connected to MongoDB...'))\n",
    "    .catch(err => console.error('Could not connect to MongoDB...', err))\n",
    "\n",
    "const authorSchema = new mongoose.Schema({\n",
    "    name:String,\n",
    "    bio: String,\n",
    "    website: String\n",
    "});\n",
    "\n",
    "const Author = mongoose.model('Author', authorSchema);\n",
    "\n",
    "const Course = mongoose.model('Course', new mongoose.Schema({\n",
    "    name:String,\n",
    "    author: authorSchema\n",
    "}));\n",
    "\n",
    "async function createAuthor(name, bio, website){\n",
    "    let author = new Author({\n",
    "        name,\n",
    "        bio,\n",
    "        website\n",
    "    });\n",
    "    author = await author.save();\n",
    "    console.log(author);\n",
    "}\n",
    "\n",
    "async function createCourse(name, author){\n",
    "    let course = new Course({\n",
    "        name: name,\n",
    "        author: author\n",
    "    });\n",
    "    course = await course.save();\n",
    "    console.log(course);\n",
    "}\n",
    "\n",
    "async function listCourses(){\n",
    "    const courses = await Course\n",
    "        .find()\n",
    "        .populate('author', 'name')\n",
    "        .select('name author');\n",
    "    \n",
    "    console.log(courses);\n",
    "    \n",
    "}\n",
    "\n",
    "createCourse('My Course', new Author({name: 'Sebastian'}));\n",
    "\n",
    "\n",
    "\n",
    "//output\n",
    "// Connected to MongoDB...\n",
    "// {\n",
    "//   name: 'My Course',\n",
    "//   author: { name: 'Sebastian', _id: new ObjectId(\"62f2b29394e3593ead5b60c0\") },\n",
    "//   _id: new ObjectId(\"62f2b29394e3593ead5b60c1\"),\n",
    "//   __v: 0\n",
    "// }"
   ]
  },
  {
   "cell_type": "markdown",
   "id": "53edeb85",
   "metadata": {},
   "source": [
    "- However, the subdocuments can only be saved in the context of their parent. For example, if we want to update an author we need to specify the id of the parent course.\n"
   ]
  },
  {
   "cell_type": "code",
   "execution_count": null,
   "id": "251f2a02",
   "metadata": {},
   "outputs": [],
   "source": [
    "    .\n",
    "    .\n",
    "    .\n",
    "async function updateAuthor(courseID){\n",
    "    const course = await Course.findById(courseID);\n",
    "    course.author.name = 'Sebastian Gil';\n",
    "    course.save();\n",
    "}\n",
    "\n",
    "updateAuthor('62f2b29394e3593ead5b60c1')\n",
    "\n",
    "\n",
    "//output\n",
    "//------------------------------------------------\n",
    "// Connected to MongoDB...\n",
    "// {\n",
    "//   _id: new ObjectId(\"62f2b29394e3593ead5b60c1\"),\n",
    "//   name: 'My Course',\n",
    "//   author: {\n",
    "//     name: 'Sebastian Gil',\n",
    "//     _id: new ObjectId(\"62f2b29394e3593ead5b60c0\")\n",
    "//   },\n",
    "//   __v: 0\n",
    "// }"
   ]
  },
  {
   "cell_type": "markdown",
   "id": "5a8e2c71",
   "metadata": {},
   "source": [
    "- We can also update a subdocument directly:"
   ]
  },
  {
   "cell_type": "code",
   "execution_count": null,
   "id": "e1c889e0",
   "metadata": {},
   "outputs": [],
   "source": [
    "    .\n",
    "    .\n",
    "    .\n",
    "async function updateAuthor(courseId){\n",
    "    const course = await Course.updateOne({_id: courseId}, {\n",
    "        $set: {\n",
    "            'author.name': 'Julian'\n",
    "        }\n",
    "    });\n",
    "}\n",
    "\n",
    "updateAuthor('62f2b29394e3593ead5b60c1')\n",
    "\n",
    "\n",
    "//output\n",
    "//------------------------------------------------\n",
    "// Connected to MongoDB...\n",
    "// {\n",
    "//   _id: new ObjectId(\"62f2b29394e3593ead5b60c1\"),\n",
    "//   name: 'My Course',\n",
    "//   author: {\n",
    "//     name: 'Julian',\n",
    "//     _id: new ObjectId(\"62f2b29394e3593ead5b60c0\")\n",
    "//   },\n",
    "//   __v: 0\n",
    "// }"
   ]
  },
  {
   "cell_type": "markdown",
   "id": "a913dbec",
   "metadata": {},
   "source": [
    "- To remove a subdocument property or whole subdocument we use **unset** opeartor."
   ]
  },
  {
   "cell_type": "code",
   "execution_count": null,
   "id": "a33e9419",
   "metadata": {},
   "outputs": [],
   "source": [
    "    .\n",
    "    .\n",
    "    .\n",
    "async function deleteAuthor(courseId){\n",
    "    const course = await Course.updateOne({_id: courseId}, {\n",
    "        $unset: {\n",
    "//             'author.name': '' // to remove name property\n",
    "            'author': '' // to remove whole subdocument\n",
    "        }\n",
    "    });\n",
    "}\n",
    "\n",
    "deleteAuthor('62f2b29394e3593ead5b60c1')\n",
    "\n",
    "\n",
    "//output\n",
    "//------------------------------------------------\n",
    "// Connected to MongoDB...\n",
    "// {\n",
    "//   _id: new ObjectId(\"62f2b29394e3593ead5b60c1\"),\n",
    "//   name: 'My Course',\n",
    "//   __v: 0\n",
    "// }"
   ]
  },
  {
   "cell_type": "markdown",
   "id": "f145662c",
   "metadata": {},
   "source": [
    "# Using an Array of Subdocuments"
   ]
  },
  {
   "cell_type": "code",
   "execution_count": null,
   "id": "174c3573",
   "metadata": {},
   "outputs": [],
   "source": [
    "//population.js\n",
    "//------------------------------------------------------------\n",
    "const mongoose = require('mongoose');\n",
    "\n",
    "mongoose.connect('mongodb://localhost/playground')\n",
    "    .then(() => console.log('Connected to MongoDB...'))\n",
    "    .catch(err => console.error('Could not connect to MongoDB...', err))\n",
    "\n",
    "const authorSchema = new mongoose.Schema({\n",
    "    name:String,\n",
    "    bio: String,\n",
    "    website: String\n",
    "});\n",
    "\n",
    "const Author = mongoose.model('Author', authorSchema);\n",
    "\n",
    "const Course = mongoose.model('Course', new mongoose.Schema({\n",
    "    name:String,\n",
    "    authors: [authorSchema]\n",
    "}));\n",
    "\n",
    "async function createAuthor(name, bio, website){\n",
    "    let author = new Author({\n",
    "        name,\n",
    "        bio,\n",
    "        website\n",
    "    });\n",
    "    author = await author.save();\n",
    "    console.log(author);\n",
    "}\n",
    "\n",
    "async function createCourse(name, authors){\n",
    "    let course = new Course({\n",
    "        name,\n",
    "        authors\n",
    "    });\n",
    "    course = await course.save();\n",
    "    console.log(course);\n",
    "}\n",
    "\n",
    "createCourse('Course with several authors', [\n",
    "    new Author({name: 'Sebastian'}),\n",
    "    new Author({name: 'Julian'})\n",
    "]);\n",
    "\n",
    "//output\n",
    "//---------------------------\n",
    "// Connected to MongoDB...\n",
    "// {\n",
    "//   name: 'Course with several authors',\n",
    "//   authors: [\n",
    "//     {\n",
    "//       name: 'Sebastian',\n",
    "//       _id: new ObjectId(\"62f2c1b79ec2b1986249d17f\")\n",
    "//     },\n",
    "//     { name: 'Julian', _id: new ObjectId(\"62f2c1b79ec2b1986249d180\") }\n",
    "//   ],\n",
    "//   _id: new ObjectId(\"62f2c1b89ec2b1986249d181\"),\n",
    "//   __v: 0\n",
    "// }"
   ]
  },
  {
   "cell_type": "markdown",
   "id": "e2c9cbb7",
   "metadata": {},
   "source": [
    "We can also add authors after course creation"
   ]
  },
  {
   "cell_type": "code",
   "execution_count": null,
   "id": "269f7012",
   "metadata": {},
   "outputs": [],
   "source": [
    "    .\n",
    "    .\n",
    "    .\n",
    "async function addAuthor(courseId, author){\n",
    "    const course = await Course.findById(courseId);\n",
    "    course.authors.push(author);\n",
    "    course.save();\n",
    "}\n",
    "\n",
    "addAuthor('62f2c1b89ec2b1986249d181', new Author({name: 'New Author'}));\n",
    "\n",
    "//---------------------------\n",
    "// Connected to MongoDB...\n",
    "// {\n",
    "//   name: 'Course with several authors',\n",
    "//   authors: [\n",
    "//     {\n",
    "//       name: 'Sebastian',\n",
    "//       _id: new ObjectId(\"62f2c1b79ec2b1986249d17f\")\n",
    "//     },\n",
    "//     { name: 'Julian', _id: new ObjectId(\"62f2c1b79ec2b1986249d180\") }\n",
    "//     { name: 'New Author', _id: new ObjectId(\"62f2c3b644b51c630c8d64d2\n",
    "//\") }\n",
    "//   ],\n",
    "//   _id: new ObjectId(\"62f2c1b89ec2b1986249d181\"),\n",
    "//   __v: 0\n",
    "// }\n"
   ]
  },
  {
   "cell_type": "markdown",
   "id": "7578e9b1",
   "metadata": {},
   "source": [
    "Removing author:"
   ]
  },
  {
   "cell_type": "code",
   "execution_count": null,
   "id": "c4e38cce",
   "metadata": {},
   "outputs": [],
   "source": [
    "async function removeAuthor(courseId, authorId){\n",
    "    const course = await Course.findById(courseId);\n",
    "    const author = course.author.id(authorId);\n",
    "    author.remove();\n",
    "    course.save();\n",
    "}\n",
    "\n",
    "removeAuthor('62f2c1b89ec2b1986249d181', '62f2c3b644b51c630c8d64d2')\n",
    "\n",
    "//output\n",
    "//---------------------------\n",
    "// Connected to MongoDB...\n",
    "// {\n",
    "//   name: 'Course with several authors',\n",
    "//   authors: [\n",
    "//     {\n",
    "//       name: 'Sebastian',\n",
    "//       _id: new ObjectId(\"62f2c1b79ec2b1986249d17f\")\n",
    "//     },\n",
    "//     { name: 'Julian', _id: new ObjectId(\"62f2c1b79ec2b1986249d180\") }\n",
    "//   ],\n",
    "//   _id: new ObjectId(\"62f2c1b89ec2b1986249d181\"),\n",
    "//   __v: 2\n",
    "// }"
   ]
  },
  {
   "cell_type": "markdown",
   "id": "7ecb5c8b",
   "metadata": {},
   "source": [
    "# Project - Build the Dishes API"
   ]
  },
  {
   "cell_type": "markdown",
   "id": "8d4efe1c",
   "metadata": {},
   "source": [
    "We create dishes api for the **Restaurant** project. For each created dish we have a menu as subdocument"
   ]
  },
  {
   "cell_type": "markdown",
   "id": "f201d87c",
   "metadata": {},
   "source": [
    "# Project - Build the Orders API"
   ]
  },
  {
   "cell_type": "markdown",
   "id": "1571d760",
   "metadata": {},
   "source": [
    "We create orders api for the **Restaurant** project. For each created order we have a customer and dish as subdocuments.\n",
    "\n",
    "However, we could have a problem. For example, if we create a new order of a dish that contains a product with limited quantity, we need discount the quantity of that product and update the database of inventary:\n",
    "\n",
    "         .\n",
    "         .\n",
    "         .\n",
    "    order = await order.save();\n",
    "\n",
    "    product.numberInStock--;\n",
    "    product.save();\n",
    "         .\n",
    "         .\n",
    "         .\n",
    "\n",
    "It is posible that after saving order (**order.save()**), something goes wrong, either a server creashes or connection to mongodb drops, so perhaps the second operation (**product.save()**) would not complete.\n",
    "\n",
    "To solve this problem we can use **transactions**. With this we ensure that both operations will update the state of the data in the database or none of them will be applied. In relational databases we have this concept of transactions but for older versions of mongodb it does not exist. The technique **Two-Phase commit** is an advance topic related to mongo and can be used to solve the problem. \n"
   ]
  },
  {
   "cell_type": "markdown",
   "id": "1001a221",
   "metadata": {},
   "source": [
    "# MongoDB Atlas"
   ]
  },
  {
   "cell_type": "markdown",
   "id": "b542fefc",
   "metadata": {},
   "source": [
    "MongoDB Atlas is a fully-managed cloud database that handles all the complexity of deploying, managing, and healing your deployments on the cloud service provider of your choice (AWS , Azure, and GCP). MongoDB Atlas is the best way to deploy, run, and scale MongoDB in the cloud.\n",
    "\n",
    "**To begin using MongoDB Atlas we need to do the following**:\n",
    "\n",
    "1. Create a MongoDB cloud account.\n",
    "2. Create a MongoDB Atlas cluster (free option for this case).\n",
    "3. Configure network access and create a cluster user.\n",
    "    - ip address: 0.0.0.0/0 (Allow access from anywhere)\n",
    "    - Username: whatever\n",
    "    - Password: whatever\n",
    "4. Connect to the cluster.\n",
    "    - connection method: Connect your application\n",
    "    - copy the connection string (mongodb+srv://<username>:<password>@cluster0.reo2xyq.mongodb.net/?retryWrites=true&w=majority)\n",
    "    - Go to application code an paste the connection string replacing *<password>* with the password in step 3.\n"
   ]
  },
  {
   "cell_type": "code",
   "execution_count": null,
   "id": "341d272e",
   "metadata": {},
   "outputs": [],
   "source": [
    "// connecting to MongoDB Atlas Cluster\n",
    "mongoose.connect('mongodb+srv://<username>:<password>@cluster0.reo2xyq.mongodb.net/?retryWrites=true&w=majority')\n",
    "    .then(() => {console.log('Connected to mongoDB...')})\n",
    "    .catch(err => {console.error('Could not connect to mongoDB...')});\n"
   ]
  },
  {
   "cell_type": "markdown",
   "id": "029bf592",
   "metadata": {},
   "source": [
    "* Now, we can work with cloud database in the same way as we did with the local database. In Postman the query string is the same for cloud database; for example: (http://localhost:3000/api/...).\n",
    "\n",
    "* The cloud database cretaed has the **replica set** feature.\n",
    "\n",
    "* **Replication in MongoDB**: A replica set in MongoDB is a group of mongod processes that maintain the same data set. Replica sets provide redundancy and high availability, and are the basis for all production deployments\n"
   ]
  },
  {
   "cell_type": "markdown",
   "id": "a32b93b8",
   "metadata": {},
   "source": [
    "#  Transactions"
   ]
  },
  {
   "cell_type": "markdown",
   "id": "4e0c0794",
   "metadata": {},
   "source": [
    "- In some relational databases we have the concept of transactions, wich means that a group of opeartions should be performed as a unit, i.e, all completed or all roll back to initial state. In recent versions of mongoose this concept has been implemented.\n",
    "\n",
    "- In Mongoose, transactions are only available in **replica set environment**. If we dont have replica set, we can convert our local databse to one.\n",
    "\n",
    "- As we can see, we put the operations in the *try* block. If the operations complete succesfully, transaction is commited; if not transaction is aborted and all roll back to initial state."
   ]
  },
  {
   "cell_type": "code",
   "execution_count": null,
   "id": "c98ba192",
   "metadata": {},
   "outputs": [],
   "source": [
    "            .\n",
    "            .\n",
    "            .\n",
    "const mongoose = require('mongoose');\n",
    "\n",
    "const session = await mongoose.startSession();\n",
    "    try{\n",
    "        session.startTransaction();\n",
    "//         First Operation...\n",
    "//         Second Operation...\n",
    "//             .\n",
    "//             .\n",
    "//             .\n",
    "        await session.commitTransaction();        \n",
    "    }\n",
    "    catch(ex){\n",
    "        await session.abortTransaction();\n",
    "        console.log(ex);\n",
    "    }\n",
    "    session.endSession();\n",
    "            .\n",
    "            .\n",
    "            ."
   ]
  },
  {
   "cell_type": "markdown",
   "id": "23b6b9ab",
   "metadata": {},
   "source": [
    "Using transaction with **Orders API**"
   ]
  },
  {
   "cell_type": "code",
   "execution_count": null,
   "id": "3a29c774",
   "metadata": {},
   "outputs": [],
   "source": [
    "                .\n",
    "                .\n",
    "                .\n",
    "router.post('/', async (req, res) => {\n",
    "    const {error} = validate(req.body);\n",
    "    if (error) return res.status(400).send(error.details[0].message);\n",
    "    \n",
    "    const customer = await Customer.findById(req.body.customerId);\n",
    "    if (!customer) return res.status(400).send('Invalid customer.');\n",
    "\n",
    "    const dish = await Dish.findById(req.body.dishId);\n",
    "    if (!dish) return res.status(400).send('Invalid dish.');\n",
    "    \n",
    "    let order = new Order({\n",
    "        customer: {\n",
    "            _id: customer._id,\n",
    "            name: customer.name,\n",
    "            phone: customer.phone\n",
    "        },\n",
    "\n",
    "        dish: {\n",
    "            _id: dish._id,\n",
    "            name: dish.name,\n",
    "            price: dish.price\n",
    "        },\n",
    "    });\n",
    "\n",
    "    dish.name = 'New name' // cnahnge in dishes collection\n",
    "\n",
    "    const session = await mongoose.startSession();\n",
    "    try{\n",
    "        session.startTransaction();\n",
    "        order = await order.save({session}); // save order\n",
    "        await dish.save({session}); // save dish\n",
    "        // res.send(order, {session});// generating error\n",
    "        res.send(order);\n",
    "        await session.commitTransaction();        \n",
    "    }\n",
    "    catch(ex){\n",
    "        await session.abortTransaction();\n",
    "        console.log(ex);\n",
    "    }\n",
    "    session.endSession();\n",
    "});\n",
    "                .\n",
    "                .\n",
    "                ."
   ]
  },
  {
   "cell_type": "markdown",
   "id": "7cff2dad",
   "metadata": {},
   "source": [
    "# Object ID"
   ]
  },
  {
   "cell_type": "markdown",
   "id": "f812cf1d",
   "metadata": {},
   "source": [
    "- When we crete an object in mongoDB, it sets the id to a long string like \"62f535aad59da8b12fc07f6e\". It contains 24 characters and every two chracateres represent a byte. First 4 bytes represent a **timestamp**. Next 3 bytes represent **machine identifier**. Next two bytes represent **process identifier**. 3 last bytes represnt **counter**. With these 12 bytes we can unique identify a documet in mongoDB.\n",
    "\n",
    "- If we generate at the same timestamp, at the same machine, at the same process more than 16M (2^24) of docuemnts, counter wich have 3 bytes will overflow. So the objectID will be the same for two docuemnts. \n",
    "\n",
    "- Actually, ID is generated by **mongoDB Driver**, that means that we dont have to wait for mongoDB to generate new ID. That is why applications built on top of mongoDB are highly scalable.we can have several insatnces of mongoDB and we dont have to talk to a central place to get an unique identifier. Driver itself can generate almost unique ID using mentioned 12 bytes.\n",
    "\n",
    "- Mongoose is an abstranction over **mongoDB Driver**. When we create a new nomgoDB object, mongoose talk to MongoDB Driver to generate a new ID.\n",
    "\n",
    "- We can explictly generate an ID:"
   ]
  },
  {
   "cell_type": "code",
   "execution_count": 12,
   "id": "fd698e62",
   "metadata": {},
   "outputs": [
    {
     "name": "stdout",
     "output_type": "stream",
     "text": [
      "new ObjectId(\"62f6779f0a1499810f5c1f15\")\n"
     ]
    },
    {
     "data": {
      "text/plain": [
       "undefined"
      ]
     },
     "execution_count": 12,
     "metadata": {},
     "output_type": "execute_result"
    }
   ],
   "source": [
    "const mongoose = require('mongoose');\n",
    "const id = new mongoose.Types.ObjectId();\n",
    "console.log(id);"
   ]
  },
  {
   "cell_type": "code",
   "execution_count": 14,
   "id": "472a6930",
   "metadata": {},
   "outputs": [
    {
     "name": "stdout",
     "output_type": "stream",
     "text": [
      "2022-08-12T15:54:07.000Z\n"
     ]
    },
    {
     "data": {
      "text/plain": [
       "undefined"
      ]
     },
     "execution_count": 14,
     "metadata": {},
     "output_type": "execute_result"
    }
   ],
   "source": [
    "console.log(id.getTimestamp()); // Timestamp of created ID"
   ]
  },
  {
   "cell_type": "code",
   "execution_count": 15,
   "id": "9c263ec2",
   "metadata": {},
   "outputs": [
    {
     "name": "stdout",
     "output_type": "stream",
     "text": [
      "false\n"
     ]
    },
    {
     "data": {
      "text/plain": [
       "undefined"
      ]
     },
     "execution_count": 15,
     "metadata": {},
     "output_type": "execute_result"
    }
   ],
   "source": [
    "var isValid = mongoose1.Types.ObjectId.isValid('1234'); //ID validation\n",
    "console.log(isValid)"
   ]
  },
  {
   "cell_type": "markdown",
   "id": "937d39be",
   "metadata": {},
   "source": [
    "# Validating ObjectIDs"
   ]
  },
  {
   "cell_type": "markdown",
   "id": "80649217",
   "metadata": {},
   "source": [
    "- We will implement id validation in our **Restaurant** Project each time we pass an id to create an order. The correct place to make this validation is in **validate function** of *Order* module.\n",
    "\n",
    "- There is an npm package for adding support to validating object IDs in Joi. **npm i joi-objectid**\n",
    "\n",
    "- require(joi-objectid) returns a function. so we need to call that function and pass a reference to Joi module (require(joi-objectid)(Joi)). The result of this is a function so we can set new Joi method as **Joi.objectId =  require(joi-objectid)(Joi)**\n",
    "\n",
    "- In **validate** function we change *Joi.String()* to **Joi.objectID**. In this way the customerId and dishId will be validate as objectId instead of string. \n",
    "\n",
    "- In this way we no longer get unhandled promise rejection"
   ]
  },
  {
   "cell_type": "code",
   "execution_count": null,
   "id": "56be4232",
   "metadata": {},
   "outputs": [],
   "source": [
    "//Restaurant/models/order.js\n",
    "\n",
    "const Joi = require('joi');\n",
    "Joi.objectId = require('joi-objectid')(Joi);\n",
    "\n",
    "            .\n",
    "            .\n",
    "            .\n",
    "            \n",
    "function validateOrder(order){\n",
    "    const schema = Joi.object({\n",
    "        customerId: Joi.objectId()\n",
    "            .required(),\n",
    "        dishId: Joi.objectId()\n",
    "            .required()        \n",
    "    });\n",
    "\n",
    "    return schema.validate(order);\n",
    "}\n",
    "\n",
    "module.exports.Order = Order;\n",
    "module.exports.validate = validateOrder;"
   ]
  },
  {
   "cell_type": "markdown",
   "id": "22331cac",
   "metadata": {},
   "source": [
    "# A better Implementation"
   ]
  },
  {
   "cell_type": "markdown",
   "id": "8377e63f",
   "metadata": {},
   "source": [
    "- We need use Objectid validation in oder modules, like dish or customer modules. We dont want to redefine the object id method in every module.\n",
    "\n",
    "- We load Joi.objectId in index.js and use it in **validateDish** function when we validate the menuId.\n",
    "\n",
    "- In Dish mocule we create a new dish object, save it to the database ans then return it. In that implementation we reset that created dish after saving it to the database, but this is only for demonstrate that *save()* method returns a movie document, and then, talks to mongoDB Driver and sets the id. However we dont need to reset dish object in order to return that id to the client. So we remove the redefinition and change the dish from a variable to a constant. The same principle applies when we create a new customer ans a new menu."
   ]
  },
  {
   "cell_type": "code",
   "execution_count": null,
   "id": "db014971",
   "metadata": {},
   "outputs": [],
   "source": [
    "//Restaurant/router/dishes.js\n",
    "                .\n",
    "                .\n",
    "                .\n",
    "                \n",
    "router.post('/', async (req, res) => {\n",
    "    const {error} = validate(req.body);\n",
    "    if (error) return res.status(400).send(error.details[0].message);\n",
    "        \n",
    "    const menu = await Menu.findById(req.body.menuId);\n",
    "    if (!menu) return res.status(400).send('Invalid menu.')\n",
    "\n",
    "    const dish = new Dish({ // changed from let to const\n",
    "        name: req.body.name,\n",
    "        menu: {\n",
    "            _id: menu._id,\n",
    "            name: menu.name\n",
    "        },\n",
    "        price: req.body.price\n",
    "    });\n",
    "\n",
    "    await dish.save(); // Redefinition removed\n",
    "    res.send(dish);\n",
    "});\n",
    "                .\n",
    "                .\n",
    "                ."
   ]
  }
 ],
 "metadata": {
  "kernelspec": {
   "display_name": "JavaScript (Node.js)",
   "language": "javascript",
   "name": "javascript"
  },
  "language_info": {
   "file_extension": ".js",
   "mimetype": "application/javascript",
   "name": "javascript",
   "version": "16.16.0"
  }
 },
 "nbformat": 4,
 "nbformat_minor": 5
}
