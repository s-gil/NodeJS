{
 "cells": [
  {
   "cell_type": "markdown",
   "id": "e7d92569",
   "metadata": {},
   "source": [
    "# Package.json"
   ]
  },
  {
   "cell_type": "markdown",
   "id": "9b2d7b32",
   "metadata": {},
   "source": [
    "- Before adding any node package to our app, we need to create **package.json** file wich includes information (metadata) about the project such as: name, version, etc.\n",
    "\n",
    "- By running **npm.init** comand in console, we can create package.json file. After running the command, we need to eneter some metadata or just press enter. \n",
    "\n",
    "- As a good practice, before start a node project, is better to run **npm.init** or **npm.init --yes** to accept all default values."
   ]
  },
  {
   "cell_type": "code",
   "execution_count": null,
   "id": "3065894e",
   "metadata": {},
   "outputs": [],
   "source": [
    "// console\n",
    "npm.init //  create package.json file manually adding metadata.\n",
    "npm.init --yes //  create package.json file faster (with default metadata)"
   ]
  },
  {
   "cell_type": "markdown",
   "id": "b41c3f63",
   "metadata": {},
   "source": [
    "# Installing a Node Package"
   ]
  },
  {
   "cell_type": "markdown",
   "id": "150c786e",
   "metadata": {},
   "source": [
    "- To install **underscore** package, we need to run **npm i underscore** command in the console. After thid two thigs happen: \n",
    "1. in *package.json* we can se new property called **dependencies** which contains new installed package name and version.\n",
    "2. New folder with the name of installed packge is created.\n",
    "\n",
    "- In previous versions of npm, the correct way to install a package was running: **npm underscore --save**. Without the *save* flag we didn´t get the new package in the list of dependencies in package.json.\n"
   ]
  },
  {
   "cell_type": "code",
   "execution_count": null,
   "id": "6a08d6b1",
   "metadata": {},
   "outputs": [],
   "source": [
    "npm i underscore"
   ]
  },
  {
   "cell_type": "markdown",
   "id": "b665e366",
   "metadata": {},
   "source": [
    "# Using a Package"
   ]
  },
  {
   "cell_type": "markdown",
   "id": "e1e6c21c",
   "metadata": {},
   "source": [
    "- We create **index.js** file. \n",
    "- By convention we use **_** for refering to underscore library\n",
    "- We are going to use **contains** function of *underscore* package\n",
    "\n",
    "**How require function resolves a module**\n",
    "- First it assumes is a core module.\n",
    "- Otherwise it assumes is file or folder a By using.\n",
    "- If not it looks for that module in node_modules folder"
   ]
  },
  {
   "cell_type": "code",
   "execution_count": null,
   "id": "37035313",
   "metadata": {},
   "outputs": [],
   "source": [
    "// index.js\n",
    "//---------------------------------------------\n",
    "var _ = require('underscore'); // node assumes that underscore module exists inside node_modules folder \n",
    "\n",
    "var result = _.contains([1,2,3], 3);\n",
    "console.log(result);\n",
    "//---------------------------------------------\n",
    "\n",
    "// output\n",
    "//-------------\n",
    "//true"
   ]
  },
  {
   "cell_type": "markdown",
   "id": "93b98303",
   "metadata": {},
   "source": [
    "# Package Dependencies"
   ]
  },
  {
   "cell_type": "markdown",
   "id": "7968cbc1",
   "metadata": {},
   "source": [
    "- We install **mongoose** for store data in **MongoDB**\n",
    "- in **node_modules** other files and folder different to *underscore* and *mongoose** are packages that *mongoose is dependend upon.\n",
    "- All dependencies of an application and their dependencies are stored in *node_modules* folder"
   ]
  },
  {
   "cell_type": "markdown",
   "id": "a86a66e8",
   "metadata": {},
   "source": [
    "# NPM Packages and Source Control"
   ]
  },
  {
   "cell_type": "markdown",
   "id": "bc7b6d39",
   "metadata": {},
   "source": [
    "- In a real world app the size of *node_modules* folder could be of hundreds of megabytes.\n",
    "- For example, if we want to run the app in another machine, we don´t want to pass the *node_modules* folder. To install all dependencies we just need to run **npm i** command in console.\n",
    "- By running **npm i**, npm looks at *package.json* and download all dependencies."
   ]
  },
  {
   "cell_type": "code",
   "execution_count": null,
   "id": "85f643ce",
   "metadata": {},
   "outputs": [],
   "source": [
    "npm -i // install all dependencies"
   ]
  },
  {
   "cell_type": "markdown",
   "id": "43b61bf8",
   "metadata": {},
   "source": [
    "# Semantic Versioning"
   ]
  },
  {
   "cell_type": "markdown",
   "id": "85e401c2",
   "metadata": {},
   "source": [
    "- Semantic Versioning **SemVer**. The version of a node package has 3 components (Major.Minor.Patch). Patch version updates when issues are fixed. Minor version is used for adding new features that don't brake the existing app. Major for new features.\n",
    "\n",
    "- Caret character (**^**) is at the beggining of versions in dependencies. It tells to npm that we are interested in any version of the package with newer minor o patch version.\n",
    "\n",
    "- ^4.13.6 is equal to 4.x. "
   ]
  },
  {
   "cell_type": "markdown",
   "id": "24973a8a",
   "metadata": {},
   "source": [
    "# Listing the Installed Package"
   ]
  },
  {
   "cell_type": "code",
   "execution_count": null,
   "id": "c699320b",
   "metadata": {},
   "outputs": [],
   "source": [
    "// in console\n",
    "npm list // List all dependencies and its versions.\n",
    "npm list --depth=0 // list just dependencies of application"
   ]
  },
  {
   "cell_type": "markdown",
   "id": "2df7bc7f",
   "metadata": {},
   "source": [
    "# Viewing Registry Info for a Package"
   ]
  },
  {
   "cell_type": "code",
   "execution_count": null,
   "id": "3e59fe1a",
   "metadata": {},
   "outputs": [],
   "source": [
    "// in console\n",
    "npm view mongoose // info about mongoose package\n",
    "npm view mongoose dependencies// dependencies of mogoose package\n",
    "npm view mongoose versions "
   ]
  },
  {
   "cell_type": "markdown",
   "id": "d1a6d84c",
   "metadata": {},
   "source": [
    "# Installing a Specific Version of Package "
   ]
  },
  {
   "cell_type": "code",
   "execution_count": null,
   "id": "d19df1ef",
   "metadata": {},
   "outputs": [],
   "source": [
    "// console\n",
    "npm inastall mongoose@2.4.2 // install 2.4.2 version of mongoose"
   ]
  },
  {
   "cell_type": "markdown",
   "id": "0d77a7a1",
   "metadata": {},
   "source": [
    "# Updating Local Packages"
   ]
  },
  {
   "cell_type": "markdown",
   "id": "85357444",
   "metadata": {},
   "source": [
    "- **npm-check-updates** and **ncu** are thea same"
   ]
  },
  {
   "cell_type": "code",
   "execution_count": null,
   "id": "d9fdbc77",
   "metadata": {},
   "outputs": [],
   "source": [
    "// console\n",
    "npm outdated // search for current, wanted and latest version of packages\n",
    "npm update // update minor and patch releases (Wanted)\n",
    "\n",
    "\n",
    "npm i -g npm-check-updates  // installing npm-check-updates package\n",
    "npm-check-updates // search for packages that are not in the last version \n",
    "\n",
    "ncu -u // upgrade dependencies to last version in package.json but not install\n",
    "npm i // install dependencies"
   ]
  },
  {
   "cell_type": "markdown",
   "id": "1b64e5d5",
   "metadata": {},
   "source": [
    "# DevDependencies"
   ]
  },
  {
   "cell_type": "markdown",
   "id": "d083192b",
   "metadata": {},
   "source": [
    "- Dependencies we´ve installed are app dependencies (mongoose and underscore). }\n",
    "\n",
    "- **jshint** is an analysis tool for JS code. It looks for potential problems of syntactical errors. To specify in the instalation that this is a development dependencie, we supply the flag **--save-dev**.\n"
   ]
  },
  {
   "cell_type": "code",
   "execution_count": null,
   "id": "120ab03b",
   "metadata": {},
   "outputs": [],
   "source": [
    "npm i jshint --save-dev // install jshint dev dependencie"
   ]
  },
  {
   "cell_type": "markdown",
   "id": "2368a974",
   "metadata": {},
   "source": [
    "# Uninstallig a Package"
   ]
  },
  {
   "cell_type": "code",
   "execution_count": null,
   "id": "716bd99e",
   "metadata": {},
   "outputs": [],
   "source": [
    "// in console\n",
    "npm uninstall mogoose \n",
    "npm un mongoose"
   ]
  },
  {
   "cell_type": "markdown",
   "id": "074fed1b",
   "metadata": {},
   "source": [
    "# Working with Global Packages"
   ]
  },
  {
   "cell_type": "markdown",
   "id": "e34dcccd",
   "metadata": {},
   "source": [
    "- Command line tools that we can acces from everywhere.\n",
    "\n",
    "- npm is an example of global package. We can run it from any folder."
   ]
  },
  {
   "cell_type": "code",
   "execution_count": null,
   "id": "0578224c",
   "metadata": {},
   "outputs": [],
   "source": [
    "// console\n",
    "npm -g outdated // search for outdated global packages\n",
    "npm -g packagename // uninstall global packagename package"
   ]
  },
  {
   "cell_type": "markdown",
   "id": "95400378",
   "metadata": {},
   "source": [
    "# Publishing a Package"
   ]
  },
  {
   "cell_type": "markdown",
   "id": "413cd76f",
   "metadata": {},
   "source": [
    "- **npm adduser** to create a node account, or **npm login** to sig in.\n",
    "\n",
    "- Maybe after **npm publish** command we get an error because we don't have permission to modify that package. To solve this issue, go back to *package.json* and change or add something to name to make it unique."
   ]
  },
  {
   "cell_type": "code",
   "execution_count": null,
   "id": "11867641",
   "metadata": {},
   "outputs": [],
   "source": [
    "// console\n",
    "mkdir lion-lib // create new project\n",
    "cd lion-lib/\n",
    "npm init --yes\n",
    "\n",
    "\n",
    "// index.js in lion-lib\n",
    "//-------------------------------------\n",
    "module.exports.add = function(a,b) {return a+b};\n",
    "\n",
    "\n",
    "// console (lion-lib folder)\n",
    "npm login\n",
    "npm publish\n",
    "\n",
    "\n",
    "// console\n",
    "mkdir node-app // create new project to use lion-lib\n",
    "cd node-app/\n",
    "npm init --yes\n",
    "npm -i lion-lib\n",
    "\n",
    "\n",
    "// index.js in node-app\n",
    "//--------------------------------\n",
    "var lion = require('lion-lib');\n",
    "var result = lion.add(3,4);\n",
    "console.log(result);"
   ]
  },
  {
   "cell_type": "markdown",
   "id": "e240597b",
   "metadata": {},
   "source": [
    "# Updating a Published Package"
   ]
  },
  {
   "cell_type": "markdown",
   "id": "70830617",
   "metadata": {},
   "source": [
    "- We add new function to *lion-lib*.\n",
    "- After running *npm publish* command, we get an error about version. To solve this we need to update **version** in *package.json* file. As we are adding new feature, we change minor version (1.0.0 -> 1.1.0).\n",
    "- Another option to solve the version problem is running **npm version minor**."
   ]
  },
  {
   "cell_type": "code",
   "execution_count": null,
   "id": "86acd933",
   "metadata": {},
   "outputs": [],
   "source": [
    "// index.js in lion-lib\n",
    "//-------------------------------------\n",
    "module.exports.add = function(a,b) {return a+b};\n",
    "module.exports.multiply = function(a,b) {return a*b};\n",
    "\n",
    "\n",
    "// console (lion-lib folder)\n",
    "npm version minor // update the manor version\n",
    "npm publish"
   ]
  }
 ],
 "metadata": {
  "kernelspec": {
   "display_name": "JavaScript (Node.js)",
   "language": "javascript",
   "name": "javascript"
  },
  "language_info": {
   "file_extension": ".js",
   "mimetype": "application/javascript",
   "name": "javascript",
   "version": "16.16.0"
  }
 },
 "nbformat": 4,
 "nbformat_minor": 5
}
