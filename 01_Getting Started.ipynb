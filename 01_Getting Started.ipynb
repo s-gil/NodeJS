{
 "cells": [
  {
   "cell_type": "markdown",
   "id": "91bdf9d0",
   "metadata": {},
   "source": [
    "# Node"
   ]
  },
  {
   "cell_type": "markdown",
   "id": "8accd0cb",
   "metadata": {},
   "source": [
    "- Node is a Runtime environment for executing JavaScript code\n",
    "- JavaScript is used only to build applications inside of a browser. Every browser has a JavaScript Engine, wich takes JS code and convers it to machine code.\n",
    "- Browser provides a runtime environment for JS code. For example in browsers we have the window or document object wich allow us to work with the environment where the code is running.\n",
    "- It is posible to execute js code outside. Node is google´s V8 engine (fatest JS engine) embedded inside a C++ program .\n",
    "- Node is similar to  a browser , it contains JS engine for JS code execution and certain objects that provide an environment for JScode. These objects are different from the objects of the browsers.\n",
    "- Instead of document object, in node we have other objects with more interesting capabilities.\n",
    "- Both Chrome and node use V8 engine but provide different runtime environments for JS\n",
    "- Node is not a programming language nor a framework\n"
   ]
  },
  {
   "cell_type": "markdown",
   "id": "bbe9a36d",
   "metadata": {},
   "source": [
    "# Node Architecture"
   ]
  },
  {
   "cell_type": "markdown",
   "id": "cd5a13bc",
   "metadata": {},
   "source": [
    "- In blocking or synchronous architecture (applications built with frameworks like ASP.net or rails ), when a request on the server is received, a thread is allocated to handle that request. It cannot be used to serve another client. If there are more request, we want to wait for thread be idle or add more hadware (more servers). The resources are not used efficiently.\n",
    "- Node applications work with Non-blocking or Asynchronous architecture. Single thread is used to handle multiple requests . If we need to query a database, the thread does not have to wait for database to return the data; while database is executing the query, the thread  will be used to serve another client. When the database prepares the result, it puts a message in something called EVENT QUEUE. Node is monitoring queue constinuosly in background. When it finds an event it will take it out and process it. \n",
    "- Node architecture is ideal for building applications that include a lot of disk or network acces (intensive aps). It is posible to serve more clients without the need of more hardware (Node applications are highly scalable). Should be used for data-intensive or real time apps\n",
    "- Node should not be used for CPU intensive applications like video encoding or image manipulation service."
   ]
  },
  {
   "cell_type": "markdown",
   "id": "20b798b6",
   "metadata": {},
   "source": [
    "# First Program"
   ]
  },
  {
   "cell_type": "code",
   "execution_count": 4,
   "id": "73d93410",
   "metadata": {},
   "outputs": [
    {
     "name": "stdout",
     "output_type": "stream",
     "text": [
      "Hello Sebastian\n"
     ]
    },
    {
     "data": {
      "text/plain": [
       "undefined"
      ]
     },
     "execution_count": 4,
     "metadata": {},
     "output_type": "execute_result"
    }
   ],
   "source": [
    "function sayHello(name){\n",
    "    console.log('Hello '+name);\n",
    "}\n",
    "\n",
    "sayHello('Sebastian');"
   ]
  },
  {
   "cell_type": "markdown",
   "id": "000e7701",
   "metadata": {},
   "source": [
    "In node we don´t have the window or document objects. These are part of the runtime environment that we get with browsers. In node we have another objects to work with files, operating system network, etc"
   ]
  },
  {
   "cell_type": "code",
   "execution_count": 2,
   "id": "5ede55af",
   "metadata": {
    "scrolled": true
   },
   "outputs": [
    {
     "ename": "ReferenceError",
     "evalue": "window is not defined",
     "output_type": "error",
     "traceback": [
      "evalmachine.<anonymous>:1",
      "console.log(window)",
      "            ^",
      "",
      "ReferenceError: window is not defined",
      "    at evalmachine.<anonymous>:1:13",
      "    at Script.runInThisContext (node:vm:129:12)",
      "    at Object.runInThisContext (node:vm:305:38)",
      "    at run ([eval]:1020:15)",
      "    at onRunRequest ([eval]:864:18)",
      "    at onMessage ([eval]:828:13)",
      "    at process.emit (node:events:527:28)",
      "    at emit (node:internal/child_process:938:14)",
      "    at processTicksAndRejections (node:internal/process/task_queues:84:21)"
     ]
    }
   ],
   "source": [
    "console.log(window)"
   ]
  }
 ],
 "metadata": {
  "kernelspec": {
   "display_name": "JavaScript (Node.js)",
   "language": "javascript",
   "name": "javascript"
  },
  "language_info": {
   "file_extension": ".js",
   "mimetype": "application/javascript",
   "name": "javascript",
   "version": "16.16.0"
  }
 },
 "nbformat": 4,
 "nbformat_minor": 5
}
