{
 "cells": [
  {
   "cell_type": "markdown",
   "id": "45349277",
   "metadata": {},
   "source": [
    "# Synchronous vs Asynchronous Code"
   ]
  },
  {
   "cell_type": "markdown",
   "id": "136c47f0",
   "metadata": {},
   "source": [
    "- Following code is an Asynchronous code, because its output after execution is: \n",
    "\n",
    "**Before**\n",
    "\n",
    "**After**\n",
    "\n",
    "**Reading user from database**\n",
    "\n",
    "- Asynchronous does not mean concurrent or multi-threaded. In this app we have a single thread that executes first line, then schedules a function to be called after two seconds and finally executes the third line."
   ]
  },
  {
   "cell_type": "code",
   "execution_count": null,
   "id": "f368cd9b",
   "metadata": {},
   "outputs": [],
   "source": [
    "console.log('Before');\n",
    "setTimeout(() => {\n",
    "    console.log('Reading user from database');\n",
    "}, 2000)\n",
    "console.log('After');"
   ]
  },
  {
   "cell_type": "markdown",
   "id": "8b71a462",
   "metadata": {},
   "source": [
    "# Patterns for Dealing with Asynchronous Code"
   ]
  },
  {
   "cell_type": "markdown",
   "id": "7dd55af3",
   "metadata": {},
   "source": [
    "- In the following code, third line (**console.log(user);**) shows undefined, because user constant will be set after two seconds.\n",
    "- **setTimeout** function simulates a long running operation like database reading. In this kind of operations the result is not available immediatly.\n",
    "- We have three patterns to deal with asynchronous code: **Callbacks, Promises, Async/await**"
   ]
  },
  {
   "cell_type": "code",
   "execution_count": 2,
   "id": "23a77cad",
   "metadata": {},
   "outputs": [
    {
     "name": "stdout",
     "output_type": "stream",
     "text": [
      "Before\n",
      "undefined\n",
      "After\n"
     ]
    },
    {
     "data": {
      "text/plain": [
       "undefined"
      ]
     },
     "execution_count": 2,
     "metadata": {},
     "output_type": "execute_result"
    },
    {
     "name": "stdout",
     "output_type": "stream",
     "text": [
      "Reading user from database\n"
     ]
    }
   ],
   "source": [
    "console.log('Before');\n",
    "const user = getUser(1);\n",
    "console.log(user);\n",
    "console.log('After');\n",
    "\n",
    "function getUser(id){\n",
    "    setTimeout(() => {\n",
    "        console.log('Reading user from database');\n",
    "        return { id: id, githubusername: 'mosh' };\n",
    "    }, 2000)\n",
    "}"
   ]
  },
  {
   "cell_type": "markdown",
   "id": "a3bed31f",
   "metadata": {},
   "source": [
    "# Callbacks"
   ]
  },
  {
   "cell_type": "markdown",
   "id": "3ab779b1",
   "metadata": {},
   "source": [
    "- A **callback** is a function that we are going to call when the result of an asynchronous operation is ready. \n",
    "- In this app we use callback function that returns the user object and passes as argument to other function. In this case the other function is an argument of the *getUser* function."
   ]
  },
  {
   "cell_type": "code",
   "execution_count": 3,
   "id": "e1988f78",
   "metadata": {},
   "outputs": [
    {
     "name": "stdout",
     "output_type": "stream",
     "text": [
      "Before\n",
      "After\n"
     ]
    },
    {
     "data": {
      "text/plain": [
       "undefined"
      ]
     },
     "execution_count": 3,
     "metadata": {},
     "output_type": "execute_result"
    },
    {
     "name": "stdout",
     "output_type": "stream",
     "text": [
      "Reading user from database\n",
      "User:  { id: 1, githubusername: 's-gil' }\n"
     ]
    }
   ],
   "source": [
    "console.log('Before');\n",
    "getUser(1, (user) => {\n",
    "    console.log('User: ', user)\n",
    "});\n",
    "console.log('After');\n",
    "\n",
    "function getUser(id, callback){\n",
    "    setTimeout(() => {\n",
    "        console.log('Reading user from database');\n",
    "        callback({ id: id, githubusername: 's-gil' });\n",
    "    }, 2000)\n",
    "}"
   ]
  },
  {
   "cell_type": "code",
   "execution_count": 5,
   "id": "93dcbc6b",
   "metadata": {},
   "outputs": [
    {
     "name": "stdout",
     "output_type": "stream",
     "text": [
      "Before\n",
      "After\n"
     ]
    },
    {
     "data": {
      "text/plain": [
       "undefined"
      ]
     },
     "execution_count": 5,
     "metadata": {},
     "output_type": "execute_result"
    },
    {
     "name": "stdout",
     "output_type": "stream",
     "text": [
      "Reading user from database\n",
      "User:  { id: 1, gitHubUsername: 's-gil' }\n",
      "Reading Repositories\n",
      "Repositories:  [ 'repo1', 'repo2', 'repo3' ]\n"
     ]
    }
   ],
   "source": [
    "// Exercise\n",
    "\n",
    "console.log('Before');\n",
    "getUser(1, (user) => {\n",
    "    console.log('User: ', user)\n",
    "    \n",
    "    getRepositories(user.gitHubUsername, (repos) => {\n",
    "        console.log('Repositories: ', repos);\n",
    "    });\n",
    "});\n",
    "console.log('After');\n",
    "\n",
    "function getUser(id, callback){\n",
    "    setTimeout(() => {\n",
    "        console.log('Reading user from database');\n",
    "        callback({ id: id, gitHubUsername: 's-gil' });\n",
    "    }, 2000)\n",
    "}\n",
    "\n",
    "function getRepositories(username, callback) {\n",
    "    setTimeout(() => {\n",
    "        console.log('Reading Repositories');\n",
    "        callback(['repo1', 'repo2', 'repo3']);\n",
    "    }, 2000)    \n",
    "}\n"
   ]
  },
  {
   "cell_type": "markdown",
   "id": "4f0128d9",
   "metadata": {},
   "source": [
    "# Callback Hell Problem"
   ]
  },
  {
   "cell_type": "code",
   "execution_count": null,
   "id": "535ab19a",
   "metadata": {},
   "outputs": [],
   "source": [
    "getUser(1, (user) => {    \n",
    "    getRepositories(user.gitHubUsername, (repos) => {\n",
    "        getCommits(repos[], () => {\n",
    "            ... // Nested structure\n",
    "        });\n",
    "    });\n",
    "});"
   ]
  },
  {
   "cell_type": "markdown",
   "id": "421d25b1",
   "metadata": {},
   "source": [
    "- In past code we built nested structure that is difficult to read. It is called **CALLBACK HELL** or *christmas tree problem* "
   ]
  },
  {
   "cell_type": "markdown",
   "id": "61f1f40e",
   "metadata": {},
   "source": [
    "# Named Functions to Rescue"
   ]
  },
  {
   "cell_type": "markdown",
   "id": "8575e6a9",
   "metadata": {},
   "source": [
    "- **Anonymous function** is a function that does not have a name. For example, in **getUser** the second argument an anonymous function.\n",
    "- We are going to replace each anonymous function with a **named function**"
   ]
  },
  {
   "cell_type": "code",
   "execution_count": 30,
   "id": "9a387913",
   "metadata": {},
   "outputs": [
    {
     "name": "stdout",
     "output_type": "stream",
     "text": [
      "Before\n",
      "After\n"
     ]
    },
    {
     "data": {
      "text/plain": [
       "undefined"
      ]
     },
     "execution_count": 30,
     "metadata": {},
     "output_type": "execute_result"
    },
    {
     "name": "stdout",
     "output_type": "stream",
     "text": [
      "Reading user from database\n",
      "Reading Repositories\n"
     ]
    },
    {
     "name": "stderr",
     "output_type": "stream",
     "text": [
      "TypeError: callback is not a function\n",
      "    at Timeout._onTimeout (evalmachine.<anonymous>:29:9)\n",
      "    at listOnTimeout (node:internal/timers:559:17)\n",
      "    at processTimers (node:internal/timers:502:7)"
     ]
    }
   ],
   "source": [
    "// Exercise\n",
    "\n",
    "console.log('Before');\n",
    "getUser(1, getRepositories);\n",
    "console.log('After');\n",
    "\n",
    "function getRepositories(user){\n",
    "    getRepositories(user.gitHubUsername, getCommits);\n",
    "}\n",
    "\n",
    "function getCommits(repos){\n",
    "    getCommits(repos, displayCommits);\n",
    "}\n",
    "\n",
    "function displayCommits(commits){\n",
    "    console.log('Commits: ', commits);\n",
    "}\n",
    "\n",
    "function getUser(id, callback){\n",
    "    setTimeout(() => {\n",
    "        console.log('Reading user from database');\n",
    "        callback({ id: id, gitHubUsername: 's-gil' });\n",
    "    }, 2000)\n",
    "}\n",
    "\n",
    "function getRepositories(username, callback) {\n",
    "    setTimeout(() => {\n",
    "        console.log('Reading Repositories');\n",
    "        callback(['repo1', 'repo2', 'repo3']);\n",
    "    }, 2000)    \n",
    "}\n",
    "\n",
    "function getCommits(repos, callback) {\n",
    "    setTimeout(() => {\n",
    "        console.log('Reading Commits');\n",
    "        callback(['commit1', 'commit2', 'commit3']);\n",
    "    }, 2000)    \n",
    "}\n"
   ]
  },
  {
   "cell_type": "markdown",
   "id": "2e66c6a2",
   "metadata": {},
   "source": [
    "- Previous code does  not work (https://stackoverflow.com/questions/66672011/typeerror-callback-is-not-a-function-node-js).\n",
    "\n",
    "**Solution:**"
   ]
  },
  {
   "cell_type": "code",
   "execution_count": 29,
   "id": "c6c040a2",
   "metadata": {},
   "outputs": [
    {
     "name": "stdout",
     "output_type": "stream",
     "text": [
      "Before\n",
      "After\n"
     ]
    },
    {
     "data": {
      "text/plain": [
       "undefined"
      ]
     },
     "execution_count": 29,
     "metadata": {},
     "output_type": "execute_result"
    },
    {
     "name": "stdout",
     "output_type": "stream",
     "text": [
      "Reading user from database\n",
      "Reading Repositories\n",
      "Reading Commits\n",
      "Commits:  [ 'commit1', 'commit2', 'commit3' ]\n"
     ]
    }
   ],
   "source": [
    "// Exercise\n",
    "\n",
    "console.log('Before');\n",
    "getUser(1, getRepositories);\n",
    "console.log('After');\n",
    "\n",
    "function displayCommits(commits){\n",
    "    console.log('Commits: ', commits);\n",
    "}\n",
    "\n",
    "function getUser(id, callback){\n",
    "    setTimeout(() => {\n",
    "        console.log('Reading user from database');\n",
    "        const user = { id: id, gitHubUsername: 's-gil' };\n",
    "        callback(user.gitHubUsername, getCommits);\n",
    "//         callback({ id: id, gitHubUsername: 's-gil' });\n",
    "    }, 2000)\n",
    "}\n",
    "\n",
    "function getRepositories(username, callback) {\n",
    "    setTimeout(() => {\n",
    "        console.log('Reading Repositories');\n",
    "        const repos = ['repo1', 'repo2', 'repo3']\n",
    "        callback(repos[0], displayCommits);\n",
    "    }, 2000)    \n",
    "}\n",
    "\n",
    "function getCommits(repos, callback) {\n",
    "    setTimeout(() => {\n",
    "        console.log('Reading Commits');\n",
    "        const commits = ['commit1', 'commit2', 'commit3']\n",
    "        callback(commits);\n",
    "    }, 2000)    \n",
    "}\n"
   ]
  },
  {
   "cell_type": "markdown",
   "id": "3a2c1d16",
   "metadata": {},
   "source": [
    "# Promises"
   ]
  },
  {
   "cell_type": "markdown",
   "id": "030fbf8a",
   "metadata": {},
   "source": [
    "- promise is an object that holds the eventual result of an asynchronous operation. It can be in one of three states\n",
    "\n",
    "Pending: call some asynchronous operation (object creation).\n",
    "Fulfilled: asynchronous operation completed succesfully.\n",
    "Rejected: something went wrong.\n",
    "\n",
    "- We create a new file named **promise.js**"
   ]
  },
  {
   "cell_type": "code",
   "execution_count": 35,
   "id": "8b8c11ef",
   "metadata": {},
   "outputs": [
    {
     "data": {
      "text/plain": [
       "Promise { <pending> }"
      ]
     },
     "execution_count": 35,
     "metadata": {},
     "output_type": "execute_result"
    },
    {
     "name": "stdout",
     "output_type": "stream",
     "text": [
      "Result 1\n"
     ]
    }
   ],
   "source": [
    "//promise.js\n",
    "//---------------------------------------------------------\n",
    "const p = new Promise((resolve, reject) => {\n",
    "    //Async Work...\n",
    "    //.\n",
    "    //.\n",
    "    //.\n",
    "    \n",
    "    resolve(1); // asynchronous operation completed succesfully\n",
    "});\n",
    "\n",
    "p.then(result => console.log('Result', result))"
   ]
  },
  {
   "cell_type": "code",
   "execution_count": 38,
   "id": "9188dfad",
   "metadata": {},
   "outputs": [
    {
     "data": {
      "text/plain": [
       "Promise { <pending> }"
      ]
     },
     "execution_count": 38,
     "metadata": {},
     "output_type": "execute_result"
    },
    {
     "name": "stdout",
     "output_type": "stream",
     "text": [
      "Result 1\n"
     ]
    }
   ],
   "source": [
    "const p = new Promise((resolve, reject) => {\n",
    "    //Async Work...\n",
    "    setTimeout(() => {\n",
    "        resolve(1);\n",
    "    }, 2000);\n",
    "});\n",
    "\n",
    "p.then(result => console.log('Result', result))"
   ]
  },
  {
   "cell_type": "code",
   "execution_count": 42,
   "id": "24281869",
   "metadata": {},
   "outputs": [
    {
     "data": {
      "text/plain": [
       "Promise { <pending> }"
      ]
     },
     "execution_count": 42,
     "metadata": {},
     "output_type": "execute_result"
    },
    {
     "name": "stdout",
     "output_type": "stream",
     "text": [
      "Error message\n"
     ]
    }
   ],
   "source": [
    "const p = new Promise((resolve, reject) => {\n",
    "    //Async Work...\n",
    "    setTimeout(() => {\n",
    "//         resolve(1) //resilved, fulfilled\n",
    "        reject(new Error('message')); // rejected\n",
    "    }, 2000);\n",
    "});\n",
    "\n",
    "// consuming...\n",
    "p\n",
    "    .then(result => console.log('Result', result))\n",
    "    .catch(err => console.log('Error', err.message));\n"
   ]
  },
  {
   "cell_type": "markdown",
   "id": "4063dba9",
   "metadata": {},
   "source": [
    "# Replacing callbacks with promises"
   ]
  },
  {
   "cell_type": "code",
   "execution_count": null,
   "id": "295932f0",
   "metadata": {},
   "outputs": [],
   "source": [
    "\n",
    "// function getUser(id, callback){\n",
    "//     setTimeout(() => {\n",
    "//         console.log('Reading user from database');\n",
    "//         const user = { id: id, gitHubUsername: 's-gil' };\n",
    "//         callback({ id: id, gitHubUsername: 's-gil' });\n",
    "//     }, 2000)\n",
    "// }\n",
    "\n",
    "function getUser(id){\n",
    "    return new Promise((resolve, reject) => {\n",
    "        setTimeout(() => {\n",
    "            console.log('Reading user from database');\n",
    "            resolve({ id: id, gitHubUsername: 's-gil' });\n",
    "        }, 2000);\n",
    "    });    \n",
    "}\n",
    "\n",
    "function getRepositories(username) {\n",
    "    return new Promise((resolve, reject) => {\n",
    "        setTimeout(() => {\n",
    "            console.log('Reading Repositories');\n",
    "            resolve(['repo1', 'repo2', 'repo3']);\n",
    "        }, 2000);\n",
    "    });        \n",
    "}\n",
    "\n",
    "function getCommits(repos) {\n",
    "    return new Promise((resolve, reject) => {\n",
    "        setTimeout(() => {\n",
    "            console.log('Reading Commits');\n",
    "            resolve(['commit1', 'commit2', 'commit3']);\n",
    "        }, 2000);\n",
    "    });        \n",
    "}"
   ]
  },
  {
   "cell_type": "markdown",
   "id": "abc49a4b",
   "metadata": {},
   "source": [
    "# Consuming Promises "
   ]
  },
  {
   "cell_type": "code",
   "execution_count": 52,
   "id": "9a27cebc",
   "metadata": {},
   "outputs": [
    {
     "name": "stdout",
     "output_type": "stream",
     "text": [
      "Before\n",
      "After\n"
     ]
    },
    {
     "data": {
      "text/plain": [
       "undefined"
      ]
     },
     "execution_count": 52,
     "metadata": {},
     "output_type": "execute_result"
    },
    {
     "name": "stdout",
     "output_type": "stream",
     "text": [
      "Reading user from database\n",
      "{ id: 1, gitHubUsername: 's-gil' }\n"
     ]
    }
   ],
   "source": [
    "//index.js\n",
    "//----------------------------------------------------------------\n",
    "console.log('Before');\n",
    "const p = getUser(1);\n",
    "p.then(user => console.log(user));\n",
    "console.log('After');\n",
    "\n",
    "function getUser(id){\n",
    "    return new Promise((resolve, reject) => {\n",
    "        setTimeout(() => {\n",
    "            console.log('Reading user from database');\n",
    "            resolve({ id: id, gitHubUsername: 's-gil' });\n",
    "        }, 2000);\n",
    "    });    \n",
    "}\n",
    "\n",
    "function getRepositories(username) {\n",
    "    return new Promise((resolve, reject) => {\n",
    "        setTimeout(() => {\n",
    "            console.log('Reading Repositories');\n",
    "            resolve(['repo1', 'repo2', 'repo3']);\n",
    "        }, 2000);\n",
    "    });        \n",
    "}\n",
    "\n",
    "function getCommits(repos) {\n",
    "    return new Promise((resolve, reject) => {\n",
    "        setTimeout(() => {\n",
    "            console.log('Reading Commits');\n",
    "            resolve(['commit1', 'commit2', 'commit3']);\n",
    "        }, 2000);\n",
    "    });        \n",
    "}"
   ]
  },
  {
   "cell_type": "code",
   "execution_count": 54,
   "id": "a62b6d89",
   "metadata": {},
   "outputs": [
    {
     "name": "stdout",
     "output_type": "stream",
     "text": [
      "Before\n",
      "After\n"
     ]
    },
    {
     "data": {
      "text/plain": [
       "undefined"
      ]
     },
     "execution_count": 54,
     "metadata": {},
     "output_type": "execute_result"
    },
    {
     "name": "stdout",
     "output_type": "stream",
     "text": [
      "Reading user from database\n",
      "{ id: 1, gitHubUsername: 's-gil' }\n"
     ]
    }
   ],
   "source": [
    "console.log('Before');\n",
    "getUser(1)\n",
    "    .then(user => console.log(user));\n",
    "console.log('After');\n",
    "\n",
    "function getUser(id){\n",
    "    return new Promise((resolve, reject) => {\n",
    "        setTimeout(() => {\n",
    "            console.log('Reading user from database');\n",
    "            resolve({ id: id, gitHubUsername: 's-gil' });\n",
    "        }, 2000);\n",
    "    });    \n",
    "}"
   ]
  },
  {
   "cell_type": "markdown",
   "id": "f5705eae",
   "metadata": {},
   "source": [
    "- Callback hell shows a nested structure. Using **promises** we have a flat structure."
   ]
  },
  {
   "cell_type": "code",
   "execution_count": 56,
   "id": "8764967d",
   "metadata": {},
   "outputs": [
    {
     "name": "stdout",
     "output_type": "stream",
     "text": [
      "Before\n",
      "After\n"
     ]
    },
    {
     "data": {
      "text/plain": [
       "undefined"
      ]
     },
     "execution_count": 56,
     "metadata": {},
     "output_type": "execute_result"
    },
    {
     "name": "stdout",
     "output_type": "stream",
     "text": [
      "Reading user from database\n",
      "Reading Repositories\n",
      "Reading Commits\n",
      "Commits:  [ 'commit1', 'commit2', 'commit3' ]\n"
     ]
    }
   ],
   "source": [
    "//index.js\n",
    "//----------------------------------------------------------------\n",
    "console.log('Before');\n",
    "getUser(1)\n",
    "    .then(user => getRepositories(user.gitHubUsername))\n",
    "    .then(repos => getCommits(repos[0]))\n",
    "    .then(commits => displayCommits(commits))\n",
    "    .catch(err => console.log('Error', err.message))\n",
    "console.log('After');\n",
    "\n",
    "function displayCommits(commits){\n",
    "    console.log('Commits: ', commits);\n",
    "}\n",
    "\n",
    "function getUser(id){\n",
    "    return new Promise((resolve, reject) => {\n",
    "        setTimeout(() => {\n",
    "            console.log('Reading user from database');\n",
    "            resolve({ id: id, gitHubUsername: 's-gil' });\n",
    "        }, 2000);\n",
    "    });    \n",
    "}\n",
    "\n",
    "function getRepositories(username) {\n",
    "    return new Promise((resolve, reject) => {\n",
    "        setTimeout(() => {\n",
    "            console.log('Reading Repositories');\n",
    "            resolve(['repo1', 'repo2', 'repo3']);\n",
    "        }, 2000);\n",
    "    });        \n",
    "}\n",
    "\n",
    "function getCommits(repos) {\n",
    "    return new Promise((resolve, reject) => {\n",
    "        setTimeout(() => {\n",
    "            console.log('Reading Commits');\n",
    "            resolve(['commit1', 'commit2', 'commit3']);\n",
    "        }, 2000);\n",
    "    });        \n",
    "}"
   ]
  },
  {
   "cell_type": "markdown",
   "id": "669ea6be",
   "metadata": {},
   "source": [
    "# Creating Settled Promises"
   ]
  },
  {
   "cell_type": "markdown",
   "id": "b1dc3dfb",
   "metadata": {},
   "source": [
    "- Create a promise that is already resolved. This is useful when writing unit test.\n",
    "- We want to simulate an scenario where asynchronous operation completes succesfully.\n",
    "- we create a file named **promise-api.js**"
   ]
  },
  {
   "cell_type": "code",
   "execution_count": 61,
   "id": "4a7b273b",
   "metadata": {},
   "outputs": [
    {
     "data": {
      "text/plain": [
       "Promise { <pending> }"
      ]
     },
     "execution_count": 61,
     "metadata": {},
     "output_type": "execute_result"
    },
    {
     "name": "stdout",
     "output_type": "stream",
     "text": [
      "{ id: 1 }\n"
     ]
    }
   ],
   "source": [
    "//promise-api.js\n",
    "//---------------------------------------------\n",
    "const p = Promise.resolve({ id: 1 }); // return a promise already resolved\n",
    "p.then(result => console.log(result));"
   ]
  },
  {
   "cell_type": "code",
   "execution_count": 60,
   "id": "e79ad7d9",
   "metadata": {},
   "outputs": [
    {
     "data": {
      "text/plain": [
       "Promise { <pending> }"
      ]
     },
     "execution_count": 60,
     "metadata": {},
     "output_type": "execute_result"
    },
    {
     "name": "stdout",
     "output_type": "stream",
     "text": [
      "Error: reason for rejection...\n",
      "    at evalmachine.<anonymous>:3:26\n",
      "    at Script.runInThisContext (node:vm:129:12)\n",
      "    at Object.runInThisContext (node:vm:305:38)\n",
      "    at run ([eval]:1020:15)\n",
      "    at onRunRequest ([eval]:864:18)\n",
      "    at onMessage ([eval]:828:13)\n",
      "    at process.emit (node:events:527:28)\n",
      "    at emit (node:internal/child_process:938:14)\n",
      "    at processTicksAndRejections (node:internal/process/task_queues:84:21)\n"
     ]
    }
   ],
   "source": [
    "//promise-api.js\n",
    "//---------------------------------------------\n",
    "const p = Promise.reject(new Error('reason for rejection...')); // return a promise already rejected\n",
    "p.catch(error => console.log(error));"
   ]
  },
  {
   "cell_type": "markdown",
   "id": "cf4ab17c",
   "metadata": {},
   "source": [
    "# Running Promises in Parallel"
   ]
  },
  {
   "cell_type": "markdown",
   "id": "0553991a",
   "metadata": {},
   "source": [
    "- **Promise.all** method get an array of promises and return a new promise that will be resolve when all the promises are resolved.\n",
    "- Here we don´t have real concurrency or multi-threading. We have a single thread  kicking off multiple asynchronous operations almost at the same time.\n",
    "- If one the promise fail, the Promise.all is reject\n"
   ]
  },
  {
   "cell_type": "code",
   "execution_count": 64,
   "id": "753357ba",
   "metadata": {},
   "outputs": [
    {
     "data": {
      "text/plain": [
       "Promise { <pending> }"
      ]
     },
     "execution_count": 64,
     "metadata": {},
     "output_type": "execute_result"
    },
    {
     "name": "stdout",
     "output_type": "stream",
     "text": [
      "Async opeartion 1...\n",
      "Async opeartion 2...\n",
      "[ 1, 2 ]\n"
     ]
    }
   ],
   "source": [
    "//promise-api.js\n",
    "//---------------------------------------------\n",
    "\n",
    "const p1 = new Promise((resolve) => {\n",
    "    setTimeout(()=>{\n",
    "        console.log('Async opeartion 1...');\n",
    "        resolve(1);\n",
    "    }, 2000);\n",
    "});\n",
    "\n",
    "const p2 = new Promise((resolve) => {\n",
    "    setTimeout(()=>{\n",
    "        console.log('Async opeartion 2...');\n",
    "        resolve(2);\n",
    "    }, 2000);\n",
    "});\n",
    "\n",
    "Promise.all([p1,p2])\n",
    "    .then(result => console.log(result));"
   ]
  },
  {
   "cell_type": "markdown",
   "id": "534e8b4d",
   "metadata": {},
   "source": [
    "- With **promise.race**, as soon as one promise is fulfilled the promise returned by race method will be considered fulfilled. The result is the value of the first fulfilled promise."
   ]
  },
  {
   "cell_type": "code",
   "execution_count": 65,
   "id": "1d0fa14b",
   "metadata": {},
   "outputs": [
    {
     "data": {
      "text/plain": [
       "Promise { <pending> }"
      ]
     },
     "execution_count": 65,
     "metadata": {},
     "output_type": "execute_result"
    },
    {
     "name": "stdout",
     "output_type": "stream",
     "text": [
      "Async opeartion 1...\n",
      "1\n",
      "Async opeartion 2...\n"
     ]
    }
   ],
   "source": [
    "//promise-api.js\n",
    "//---------------------------------------------\n",
    "const p1 = new Promise((resolve) => {\n",
    "    setTimeout(()=>{\n",
    "        console.log('Async opeartion 1...');\n",
    "        resolve(1);\n",
    "    }, 2000);\n",
    "});\n",
    "\n",
    "const p2 = new Promise((resolve) => {\n",
    "    setTimeout(()=>{\n",
    "        console.log('Async opeartion 2...');\n",
    "        resolve(2);\n",
    "    }, 2000);\n",
    "});\n",
    "\n",
    "Promise.race([p1,p2])\n",
    "    .then(result => console.log(result));"
   ]
  },
  {
   "cell_type": "markdown",
   "id": "507b13b6",
   "metadata": {},
   "source": [
    "# Async and Await"
   ]
  },
  {
   "cell_type": "markdown",
   "id": "df574227",
   "metadata": {},
   "source": [
    "- Async and Await helps us write asynchronous code like synchronous code."
   ]
  },
  {
   "cell_type": "code",
   "execution_count": null,
   "id": "0529eb6e",
   "metadata": {},
   "outputs": [],
   "source": [
    "//Promised-based approach\n",
    "getUser(1)\n",
    "    .then(user => getRepositories(user.gitHubUsername))\n",
    "    .then(repos => getCommits(repos[0]))\n",
    "    .then(commits => displayCommits(commits))\n",
    "    .catch(err => console.log('Error', err.message))\n",
    "\n",
    "//Async and Await approach\n",
    "const user = await getUser(1);\n",
    "const repos = await getRepositories(user.gitHubUserName);\n",
    "const commits = await getCommits(repos[0]);\n",
    "console.log(commits);"
   ]
  },
  {
   "cell_type": "markdown",
   "id": "379cd459",
   "metadata": {},
   "source": [
    "- When using the **await** operator in a function, we need to decorate that function with the **async** modifier. \n",
    "- the returned type of this function is a promise that once fulfilled does not resolve in a value, it is void. This means that async and await are built in top of promises "
   ]
  },
  {
   "cell_type": "code",
   "execution_count": null,
   "id": "b5134dc4",
   "metadata": {},
   "outputs": [],
   "source": [
    "//Promised-based approach\n",
    "getUser(1)\n",
    "    .then(user => getRepositories(user.gitHubUsername))\n",
    "    .then(repos => getCommits(repos[0]))\n",
    "    .then(commits => displayCommits(commits))\n",
    "    .catch(err => console.log('Error', err.message))\n",
    "\n",
    "//Async and Await approach\n",
    "async function displayCommits(){\n",
    "    const user = await getUser(1);\n",
    "    const repos = await getRepositories(user.gitHubUserName);\n",
    "    const commits = await getCommits(repos[0]);\n",
    "    console.log(commits);\n",
    "}"
   ]
  },
  {
   "cell_type": "code",
   "execution_count": 68,
   "id": "8d9fba4b",
   "metadata": {},
   "outputs": [
    {
     "name": "stdout",
     "output_type": "stream",
     "text": [
      "Before\n",
      "After\n"
     ]
    },
    {
     "data": {
      "text/plain": [
       "undefined"
      ]
     },
     "execution_count": 68,
     "metadata": {},
     "output_type": "execute_result"
    },
    {
     "name": "stdout",
     "output_type": "stream",
     "text": [
      "Reading user from database\n",
      "Reading Repositories\n",
      "Reading Commits\n",
      "[ 'commit1', 'commit2', 'commit3' ]\n"
     ]
    }
   ],
   "source": [
    "//index.js\n",
    "//----------------------------------------------------------------\n",
    "console.log('Before');\n",
    "\n",
    "// //Promised-based approach\n",
    "// getUser(1)\n",
    "//     .then(user => getRepositories(user.gitHubUsername))\n",
    "//     .then(repos => getCommits(repos[0]))\n",
    "//     .then(commits => displayCommits(commits))\n",
    "//     .catch(err => console.log('Error', err.message))\n",
    "\n",
    "//Async and Await approach\n",
    "async function displayCommits(){\n",
    "    const user = await getUser(1);\n",
    "    const repos = await getRepositories(user.gitHubUserName);\n",
    "    const commits = await getCommits(repos[0]);\n",
    "    console.log(commits);\n",
    "}\n",
    "\n",
    "displayCommits()\n",
    "console.log('After');\n",
    "\n",
    "function getUser(id){\n",
    "    return new Promise((resolve, reject) => {\n",
    "        setTimeout(() => {\n",
    "            console.log('Reading user from database');\n",
    "            resolve({ id: id, gitHubUsername: 's-gil' });\n",
    "        }, 2000);\n",
    "    });    \n",
    "}\n",
    "\n",
    "function getRepositories(username) {\n",
    "    return new Promise((resolve, reject) => {\n",
    "        setTimeout(() => {\n",
    "            console.log('Reading Repositories');\n",
    "            resolve(['repo1', 'repo2', 'repo3']);\n",
    "        }, 2000);\n",
    "    });        \n",
    "}\n",
    "\n",
    "function getCommits(repos) {\n",
    "    return new Promise((resolve, reject) => {\n",
    "        setTimeout(() => {\n",
    "            console.log('Reading Commits');\n",
    "            resolve(['commit1', 'commit2', 'commit3']);\n",
    "        }, 2000);\n",
    "    });        \n",
    "}"
   ]
  },
  {
   "cell_type": "markdown",
   "id": "dff77b76",
   "metadata": {},
   "source": [
    "- When using async and await we don´t have catch method. To get error we use **try-catch** block"
   ]
  },
  {
   "cell_type": "code",
   "execution_count": 69,
   "id": "88505a5e",
   "metadata": {},
   "outputs": [
    {
     "name": "stdout",
     "output_type": "stream",
     "text": [
      "Before\n",
      "After\n"
     ]
    },
    {
     "data": {
      "text/plain": [
       "undefined"
      ]
     },
     "execution_count": 69,
     "metadata": {},
     "output_type": "execute_result"
    },
    {
     "name": "stdout",
     "output_type": "stream",
     "text": [
      "Reading user from database\n",
      "Reading Repositories\n",
      "Error Could not get the repos\n"
     ]
    }
   ],
   "source": [
    "//index.js\n",
    "//----------------------------------------------------------------\n",
    "console.log('Before');\n",
    "\n",
    "//Async and Await approach\n",
    "async function displayCommits(){\n",
    "    try{\n",
    "        const user = await getUser(1);\n",
    "        const repos = await getRepositories(user.gitHubUserName);\n",
    "        const commits = await getCommits(repos[0]);\n",
    "        console.log(commits);\n",
    "    }\n",
    "    catch(err){\n",
    "        console.log('Error', err.message);\n",
    "    }\n",
    "}\n",
    "\n",
    "displayCommits()\n",
    "console.log('After');\n",
    "\n",
    "function getUser(id){\n",
    "    return new Promise((resolve, reject) => {\n",
    "        setTimeout(() => {\n",
    "            console.log('Reading user from database');\n",
    "            resolve({ id: id, gitHubUsername: 's-gil' });\n",
    "        }, 2000);\n",
    "    });    \n",
    "}\n",
    "\n",
    "function getRepositories(username) {\n",
    "    return new Promise((resolve, reject) => {\n",
    "        setTimeout(() => {\n",
    "            console.log('Reading Repositories');\n",
    "//             resolve(['repo1', 'repo2', 'repo3']);\n",
    "            reject(new Error('Could not get the repos')) //simulating error\n",
    "        }, 2000);\n",
    "    });        \n",
    "}\n",
    "\n",
    "function getCommits(repos) {\n",
    "    return new Promise((resolve, reject) => {\n",
    "        setTimeout(() => {\n",
    "            console.log('Reading Commits');\n",
    "            resolve(['commit1', 'commit2', 'commit3']);\n",
    "        }, 2000);\n",
    "    });        \n",
    "}"
   ]
  },
  {
   "cell_type": "markdown",
   "id": "f46da928",
   "metadata": {},
   "source": [
    "# Exercise"
   ]
  },
  {
   "cell_type": "code",
   "execution_count": 74,
   "id": "0bf3a52c",
   "metadata": {},
   "outputs": [
    {
     "data": {
      "text/plain": [
       "undefined"
      ]
     },
     "execution_count": 74,
     "metadata": {},
     "output_type": "execute_result"
    },
    {
     "name": "stdout",
     "output_type": "stream",
     "text": [
      "Customer:  { id: 1, name: 'Sebastian Gil', isGold: true, email: 'email' }\n",
      "Top movies:  [ 'movie1', 'movie2' ]\n",
      "Email sent...\n"
     ]
    }
   ],
   "source": [
    "// Replace with await and async approach\n",
    "\n",
    "getCustomer(1, (customer) => {\n",
    "  console.log('Customer: ', customer);\n",
    "  if (customer.isGold) {\n",
    "    getTopMovies((movies) => {\n",
    "      console.log('Top movies: ', movies);\n",
    "      sendEmail(customer.email, movies, () => {\n",
    "        console.log('Email sent...')\n",
    "      });\n",
    "    });\n",
    "  }\n",
    "});\n",
    "\n",
    "function getCustomer(id, callback) {\n",
    "  setTimeout(() => {\n",
    "    callback({ \n",
    "      id: 1, \n",
    "      name: 'Sebastian Gil', \n",
    "      isGold: true, \n",
    "      email: 'email' \n",
    "    });\n",
    "  }, 4000);  \n",
    "}\n",
    "\n",
    "function getTopMovies(callback) {\n",
    "  setTimeout(() => {\n",
    "    callback(['movie1', 'movie2']);\n",
    "  }, 4000);\n",
    "}\n",
    "\n",
    "function sendEmail(email, movies, callback) {\n",
    "  setTimeout(() => {\n",
    "    callback();\n",
    "  }, 4000);\n",
    "}"
   ]
  },
  {
   "cell_type": "code",
   "execution_count": 77,
   "id": "d53f2972",
   "metadata": {},
   "outputs": [
    {
     "data": {
      "text/plain": [
       "Promise { <pending> }"
      ]
     },
     "execution_count": 77,
     "metadata": {},
     "output_type": "execute_result"
    },
    {
     "name": "stdout",
     "output_type": "stream",
     "text": [
      "{ id: 1, name: 'Sebastian Gil', isGold: true, email: 'email' }\n",
      "[ 'movie1', 'movie2' ]\n",
      "Email sent...\n"
     ]
    }
   ],
   "source": [
    "// Solution\n",
    "\n",
    "// getCustomer(1, (customer) => {\n",
    "//   console.log('Customer: ', customer);\n",
    "//   if (customer.isGold) {\n",
    "//     getTopMovies((movies) => {\n",
    "//       console.log('Top movies: ', movies);\n",
    "//       sendEmail(customer.email, movies, () => {\n",
    "//         console.log('Email sent...')\n",
    "//       });\n",
    "//     });\n",
    "//   }\n",
    "// });\n",
    "\n",
    "async function func(){\n",
    "    const customer = await getCustomer(1);\n",
    "    console.log(customer);\n",
    "    if (customer.isGold){\n",
    "        const topMovies = await getTopMovies();\n",
    "        console.log(topMovies);\n",
    "        await sendEmail(customer.email, topMovies); \n",
    "        console.log('Email sent...');\n",
    "    }    \n",
    "    \n",
    "}\n",
    "\n",
    "func();\n",
    "\n",
    "function getCustomer(id) {\n",
    "    return new Promise((resolve) => {\n",
    "        setTimeout(() => {\n",
    "            resolve({ \n",
    "            id: 1, \n",
    "            name: 'Sebastian Gil', \n",
    "            isGold: true, \n",
    "            email: 'email'\n",
    "            });\n",
    "        }, 4000);\n",
    "    });  \n",
    "}\n",
    "\n",
    "function getTopMovies() {\n",
    "    return new Promise((resolve) => {\n",
    "       setTimeout(() => {\n",
    "           resolve(['movie1', 'movie2']);\n",
    "       }, 4000); \n",
    "    });   \n",
    "}\n",
    "\n",
    "function sendEmail(email, movies) {\n",
    "    return new Promise((resolve) => {\n",
    "        setTimeout(() => {\n",
    "            resolve();\n",
    "        }, 4000);\n",
    "    });\n",
    "}\n"
   ]
  }
 ],
 "metadata": {
  "kernelspec": {
   "display_name": "JavaScript (Node.js)",
   "language": "javascript",
   "name": "javascript"
  },
  "language_info": {
   "file_extension": ".js",
   "mimetype": "application/javascript",
   "name": "javascript",
   "version": "16.16.0"
  }
 },
 "nbformat": 4,
 "nbformat_minor": 5
}
