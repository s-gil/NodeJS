{
 "cells": [
  {
   "cell_type": "markdown",
   "id": "fd69ab51",
   "metadata": {},
   "source": [
    "# Global Object\n",
    "We can acces it anywhere in any files"
   ]
  },
  {
   "cell_type": "code",
   "execution_count": null,
   "id": "8363e57c",
   "metadata": {},
   "outputs": [],
   "source": [
    "//Global Objects in Javascript\n",
    "console.log(); \n",
    "setTimeout();\n",
    "clearTimeout();\n",
    "setInterval(); //repeatedly call a function after a given delay\n",
    "clearInterval(); // stop that function to being called repeatedly\n",
    "\n",
    "// All this objects can be accesed by window object"
   ]
  },
  {
   "cell_type": "markdown",
   "id": "6784cb77",
   "metadata": {},
   "source": [
    "In browser the window object represents the global scope. With **Window** object it is possible to access all the variables and the functions that are defined as globally. "
   ]
  },
  {
   "cell_type": "code",
   "execution_count": null,
   "id": "cf8b08a7",
   "metadata": {},
   "outputs": [],
   "source": [
    "window.console.log();\n",
    "console.log(); // JS engine will prefix this statement with window.\n",
    "\n",
    "var message = ''; \n",
    "window.message // Created variable can be accesed by window object"
   ]
  },
  {
   "cell_type": "markdown",
   "id": "4571e49d",
   "metadata": {},
   "source": [
    "In node does not exists **window** object, instead exists **global** object."
   ]
  },
  {
   "cell_type": "code",
   "execution_count": 5,
   "id": "8697fa90",
   "metadata": {},
   "outputs": [
    {
     "name": "stdout",
     "output_type": "stream",
     "text": [
      "x\n"
     ]
    },
    {
     "data": {
      "text/plain": [
       "undefined"
      ]
     },
     "execution_count": 5,
     "metadata": {},
     "output_type": "execute_result"
    }
   ],
   "source": [
    "// global.setInterval()\n",
    "global.console.log('x')"
   ]
  },
  {
   "cell_type": "markdown",
   "id": "0e66b6fa",
   "metadata": {},
   "source": [
    "But the variables and functions defined are not added to the global object, they are only scoped to the JS file. They are not available outside the JS file because of Node Modular System."
   ]
  },
  {
   "cell_type": "code",
   "execution_count": 7,
   "id": "0441a4a1",
   "metadata": {},
   "outputs": [
    {
     "name": "stdout",
     "output_type": "stream",
     "text": [
      "\n"
     ]
    },
    {
     "data": {
      "text/plain": [
       "undefined"
      ]
     },
     "execution_count": 7,
     "metadata": {},
     "output_type": "execute_result"
    }
   ],
   "source": [
    "//app.js\n",
    "//----------------------------------\n",
    "var message = ''; //the variables \n",
    "console.log(global.message)\n",
    "//----------------------------------\n",
    "\n",
    "//in console:\n",
    "//------------------------------\n",
    "// node app.js\n",
    "//------------------------------"
   ]
  },
  {
   "cell_type": "markdown",
   "id": "d413f7fb",
   "metadata": {},
   "source": [
    "# Modules"
   ]
  },
  {
   "cell_type": "markdown",
   "id": "fbcf9a92",
   "metadata": {},
   "source": [
    "**Problem with Global Scope**\n",
    "\n",
    "In client-side JS that we run inside of browser, when we create a variable or function, it is added to global scope and can be accesed by window object. In applications we often split JS code into multiple files. It is possible to have two files wich have definded the same function.\n",
    "\n",
    "Because this function is added to global scope, when we define this function in other file, that new definition is going to override the previous definition.\n",
    "\n",
    "To build reliable and maintainable applocations, we should avoid defining variables and functions in the global scope, instead we need modularity.\n",
    "\n",
    "**Modularity**\n",
    "\n",
    "We need to create small building blocks or modules where we define variables and functions. In this way, two variables or functions with same name don´t override another variable or function defined somewhere else.\n",
    "In node, every file in a node application is considered a module. The variables and functiions defined in one file are scope to that file. In OOP we say they are private\n",
    "\n",
    "If you need to use a variable defined in a module, outside that module, you need to explicitly export it and make it public.  \n"
   ]
  },
  {
   "cell_type": "markdown",
   "id": "2afb3e9b",
   "metadata": {},
   "source": [
    "Node apps has at least 1 module which is the main module. We can see that object **module** is a JSON object. "
   ]
  },
  {
   "cell_type": "code",
   "execution_count": null,
   "id": "7e32a30a",
   "metadata": {},
   "outputs": [],
   "source": [
    "//app.js\n",
    "//--------------------------\n",
    "console.log(module);\n",
    "//-------------------------\n",
    "\n",
    "// in console\n",
    "// C:\\Users\\sebastian\\Desktop\\nodejs>node app.js\n",
    "\n",
    "// Output\n",
    "//-----------------------------------------------------------------\n",
    "// Module {\n",
    "//   id: '.',\n",
    "//   path: 'C:\\\\Users\\\\sebastian\\\\Desktop\\\\nodejs',\n",
    "//   exports: {},\n",
    "//   filename: 'C:\\\\Users\\\\sebastian\\\\Desktop\\\\nodejs\\\\app.js',\n",
    "//   loaded: false,\n",
    "//   children: [],\n",
    "//   paths: [\n",
    "//     'C:\\\\Users\\\\sebastian\\\\Desktop\\\\nodejs\\\\node_modules',\n",
    "//     'C:\\\\Users\\\\sebastian\\\\Desktop\\\\node_modules',\n",
    "//     'C:\\\\Users\\\\sebastian\\\\node_modules',\n",
    "//     'C:\\\\Users\\\\node_modules',\n",
    "//     'C:\\\\node_modules'\n",
    "//   ]\n",
    "// }\n",
    "//-----------------------------------------------------------------"
   ]
  },
  {
   "cell_type": "markdown",
   "id": "ff9cfff3",
   "metadata": {},
   "source": [
    "# Creating a Module"
   ]
  },
  {
   "cell_type": "markdown",
   "id": "10823d19",
   "metadata": {},
   "source": [
    "**Example**\n",
    "\n",
    "We are going to use one of those remote logging services for loggin our messages, so there are websites out there that provide logging as a service, they give us a URL and we can send a HTTP request to that URL to log messages in the cloud.\n",
    "\n",
    "- We create a new JS file named **logger.js** for logging messages (we will reuse this module in various parts of this applications or in other aplications)\n",
    "\n",
    " "
   ]
  },
  {
   "cell_type": "code",
   "execution_count": null,
   "id": "89f38114",
   "metadata": {},
   "outputs": [],
   "source": [
    "// logger.js\n",
    "var url = 'http://mylogger.io/log'; // Example URL\n",
    "\n",
    "function log(message){\n",
    "    //send HTTP request\n",
    "    console.log(message);\n",
    "}"
   ]
  },
  {
   "cell_type": "markdown",
   "id": "29ef47b8",
   "metadata": {},
   "source": [
    "- variable and function are both scoped to the **logger.js** module. They are private and not visible form the outside.\n",
    "\n",
    "- If we want to use the **logger** module in the main module **app.js** we need to make it pulic.\n",
    "\n",
    "- **exports** is an empty object and is a property of the modules. Anything added to this object will be exported for the module and will be available outside it.\n",
    "\n",
    "- We can export the cretaed function adding the method **log** to exports object and setting it to **log** defined function.\n",
    "\n",
    "- Also we can export defined variable adding **url** variable to exports object. It is also possible to change the name of exported variable"
   ]
  },
  {
   "cell_type": "code",
   "execution_count": null,
   "id": "f568f789",
   "metadata": {},
   "outputs": [],
   "source": [
    "// logger.js\n",
    "var url = 'http://mylogger.io/log'; // Example URL\n",
    "\n",
    "function log(message){\n",
    "    //send HTTP request\n",
    "    console.log(message);\n",
    "}\n",
    "\n",
    "module.exports.log = log;\n",
    "module.exports.url = url;\n",
    "\n",
    "// it is also possible to change the name of exported variable\n",
    "// module.exports.endPoint = url;"
   ]
  },
  {
   "cell_type": "markdown",
   "id": "8de2058b",
   "metadata": {},
   "source": [
    "- In our logger module **url** variable is *implementation detail*, other modules do not need to know about this, they only need to call the log function. So we export it, make it public, but keep the URL private."
   ]
  },
  {
   "cell_type": "code",
   "execution_count": null,
   "id": "e85c703a",
   "metadata": {},
   "outputs": [],
   "source": [
    "// logger.js\n",
    "var url = 'http://mylogger.io/log'; // Example URL\n",
    "\n",
    "function log(message){\n",
    "    //send HTTP request\n",
    "    console.log(message);\n",
    "}\n",
    "\n",
    "module.exports.log = log;"
   ]
  },
  {
   "cell_type": "markdown",
   "id": "1174af02",
   "metadata": {},
   "source": [
    "# Loading a Module"
   ]
  },
  {
   "cell_type": "markdown",
   "id": "513cf2d7",
   "metadata": {},
   "source": [
    "To load the module we use **require()** function. This function returns the object that is exported from the target module."
   ]
  },
  {
   "cell_type": "code",
   "execution_count": null,
   "id": "468033cd",
   "metadata": {},
   "outputs": [],
   "source": [
    "//app.js\n",
    "// requiere('./logger.js') //period-slash(./) indicate rhe current folder\n",
    "var logger = require('./logger') //node assumes it is a JS file\n",
    "\n",
    "// console\n",
    "//----------------------------------------------\n",
    "// C:\\Users\\sebastian\\Desktop\\nodejs>node app.js\n",
    "// { log: [Function: log] }"
   ]
  },
  {
   "cell_type": "markdown",
   "id": "8304b0e2",
   "metadata": {},
   "source": [
    "In this case, the returned object has the fuction *log*. We can use this fuction in **app.js** "
   ]
  },
  {
   "cell_type": "code",
   "execution_count": null,
   "id": "55872069",
   "metadata": {},
   "outputs": [],
   "source": [
    "//app.js\n",
    "var logger = require('./logger') //node assumes it is a JS file\n",
    "\n",
    "logger.log('mensaje')\n",
    "\n",
    "// console\n",
    "//----------------------------------------------\n",
    "// C:\\Users\\sebastian\\Desktop\\nodejs>node app.js\n",
    "// mensaje"
   ]
  },
  {
   "cell_type": "markdown",
   "id": "6b52af48",
   "metadata": {},
   "source": [
    "As a good practice it is better to store the result in constant when loading a module using the requiere function. the reason is we don´t wnat to override the value of the returned object."
   ]
  },
  {
   "cell_type": "code",
   "execution_count": null,
   "id": "372c8154",
   "metadata": {},
   "outputs": [],
   "source": [
    "//app.js\n",
    "const logger = require('./logger') //node assumes it is a JS file\n",
    "\n",
    "logger.log('mensaje')"
   ]
  },
  {
   "cell_type": "markdown",
   "id": "082f5da3",
   "metadata": {},
   "source": [
    "There are tools that check the JS code to detect errors. One of these popular tools is JSHint. With this we can get errors at compile time instead of the runtime."
   ]
  },
  {
   "cell_type": "markdown",
   "id": "3d211426",
   "metadata": {},
   "source": [
    "Another option is to export only one function instead an object with the target function. The object is useful if we have multiple ethods or properties."
   ]
  },
  {
   "cell_type": "code",
   "execution_count": null,
   "id": "919cd77d",
   "metadata": {},
   "outputs": [],
   "source": [
    "// logger.js\n",
    "//---------------------------------------------------\n",
    "var url = 'http://mylogger.io/log'; // Example URL\n",
    "\n",
    "function log(message){\n",
    "    //send HTTP request\n",
    "    console.log(message);\n",
    "}\n",
    "\n",
    "module.exports = log; // it is possible to reset 'exports' to a function\n",
    "\n",
    "// app.js\n",
    "//-----------------------------------------------------------\n",
    "var log = require('./logger') //node assumes it is a JS file\n",
    "\n",
    "log('mensaje');\n",
    "\n",
    "// console\n",
    "//----------------------------------------------\n",
    "// C:\\Users\\sebastian\\Desktop\\nodejs>node app.js\n",
    "// mensaje"
   ]
  },
  {
   "cell_type": "markdown",
   "id": "8b80ec2b",
   "metadata": {},
   "source": [
    "# Module Wrapper Functions"
   ]
  },
  {
   "cell_type": "markdown",
   "id": "2e5ebe65",
   "metadata": {},
   "source": [
    "Node doesn't execute the code directly, it wraps it inside of a function. This function is a *IIFE* (Immediatly Invoked Function Expresion) and we call it **Module Wrapper Function**."
   ]
  },
  {
   "cell_type": "code",
   "execution_count": null,
   "id": "bbc305f9",
   "metadata": {},
   "outputs": [],
   "source": [
    "// Module Wrapper Function\n",
    "\n",
    "(function (exports, require, module, __filename, __dirname){\n",
    "    //     Code Statements ...\n",
    "    //     .\n",
    "    //     .\n",
    "    //     .\n",
    "})"
   ]
  },
  {
   "cell_type": "markdown",
   "id": "c9d38ee3",
   "metadata": {},
   "source": [
    "At this point we know *exports*, *require* and *module*. Let´s see what about *__filename* and *__dirname*"
   ]
  },
  {
   "cell_type": "code",
   "execution_count": null,
   "id": "1acf8e25",
   "metadata": {},
   "outputs": [],
   "source": [
    "// logger.js\n",
    "//---------------------------------------------------\n",
    "console.log(__filename);\n",
    "console.log(__dirname);\n",
    "\n",
    "var url = 'http://mylogger.io/log'; // Example URL\n",
    "\n",
    "function log(message){\n",
    "    //send HTTP request\n",
    "    console.log(message);\n",
    "}\n",
    "\n",
    "module.exports = log;\n",
    "\n",
    "// console\n",
    "//----------------------------------------------\n",
    "// C:\\Users\\sebastian\\Desktop\\nodejs>node app.js\n",
    "\n",
    "// C:\\Users\\sebastian\\Desktop\\nodejs\\logger.js //__filename\n",
    "// C:\\Users\\sebastian\\Desktop\\nodejs //__dirname\n",
    "// mensaje"
   ]
  },
  {
   "cell_type": "markdown",
   "id": "1bc7c168",
   "metadata": {},
   "source": [
    "# Path Module"
   ]
  },
  {
   "cell_type": "markdown",
   "id": "117da0a6",
   "metadata": {},
   "source": [
    "We pass the name of built-in as argument of **require** function. If there is no built-in module by the name specified in the argument, node looks for the existence of a relative path to a file in this apllication.\n",
    "\n",
    "In this case we pass the name **path** (built-in function) as argument of *require* function. path has several utility functions like **parse**. \n",
    "\n",
    "The **path.parse()** method returns an object whose properties represent significant elements of the path."
   ]
  },
  {
   "cell_type": "code",
   "execution_count": null,
   "id": "002ddc8a",
   "metadata": {},
   "outputs": [],
   "source": [
    "// app.js\n",
    "const path = require('path')\n",
    "\n",
    "var pathObj = path.parse(__filename)\n",
    "\n",
    "console.log(pathObj)\n",
    "\n",
    "// console\n",
    "//----------------------------------------------\n",
    "// C:\\Users\\sebastian\\Desktop\\nodejs>node app.js\n",
    "\n",
    "// {\n",
    "//   root: 'C:\\\\',\n",
    "//   dir: 'C:\\\\Users\\\\sebastian\\\\Desktop\\\\nodejs',\n",
    "//   base: 'app.js',\n",
    "//   ext: '.js',\n",
    "//   name: 'app'\n",
    "// }"
   ]
  },
  {
   "cell_type": "markdown",
   "id": "f77863f6",
   "metadata": {},
   "source": [
    "# OS Module"
   ]
  },
  {
   "cell_type": "markdown",
   "id": "3086494b",
   "metadata": {},
   "source": [
    "In this example we use **os** built-in module to get the free and total memory of the pc. Before node this was not possible using JS. JavaScript use to run inside a browser and we can only work with *window* and *document* objects. We couldn't get information about the Operating System.\n",
    "\n",
    "With node JS code is executed outside of a browser or \"on the server\""
   ]
  },
  {
   "cell_type": "code",
   "execution_count": null,
   "id": "f3196bdb",
   "metadata": {},
   "outputs": [],
   "source": [
    "//app.js\n",
    "const os = require('os');\n",
    "\n",
    "var totalMemory = os.totalmem();\n",
    "var freeMemory = os.freemem();\n",
    "\n",
    "// Template String \n",
    "// ES6 / ES2015 : ECMAScript 6\n",
    "\n",
    "// `` backtick character for Template\n",
    "console.log(`Total memory: ${totalMemory}`)\n",
    "console.log(`Free memory: ${freeMemory}`)\n",
    "\n",
    "// console\n",
    "//----------------------------------------------\n",
    "// C:\\Users\\sebastian\\Desktop\\nodejs>node app.js\n",
    "\n",
    "// Total memory: 10666139648\n",
    "// Free memory: 2565439488"
   ]
  },
  {
   "cell_type": "markdown",
   "id": "05b3c57f",
   "metadata": {},
   "source": [
    "# File System Module"
   ]
  },
  {
   "cell_type": "markdown",
   "id": "8a95bb7b",
   "metadata": {},
   "source": [
    "- With **fs** module we can aces to different opperations. Almost every operation comes in two forms: Synchronous or Blocking, or, Asynchronous or Non-Blocking.\n",
    "\n",
    "- In real app there will be several hundreds or thoudsands of clients connecting to the backend. Therefore we should use Asynchronous methods because they are Non-Blocking. We should avoid using Synchronous methods.\n",
    "\n",
    "- **fs.readdir** will return all the files in the specified folder."
   ]
  },
  {
   "cell_type": "code",
   "execution_count": null,
   "id": "1073dbd7",
   "metadata": {},
   "outputs": [],
   "source": [
    "//app.js\n",
    "const fs = require('fs');\n",
    "\n",
    "fs.readdirSync() // synchronous form of this method"
   ]
  },
  {
   "cell_type": "markdown",
   "id": "e81e0962",
   "metadata": {},
   "source": [
    "- The asynchronous form of these methods, take a **callback** function as their last argument. Node will call this function when the asynchronous operation is completed. **callback** function has two parameters: error and result."
   ]
  },
  {
   "cell_type": "code",
   "execution_count": null,
   "id": "9cff8d96",
   "metadata": {},
   "outputs": [],
   "source": [
    "//app.js\n",
    "const fs = require('fs');\n",
    "\n",
    "fs.readdir('./', function(err, files){\n",
    "    if (err) console.log('Error', err);\n",
    "    else console.log('Result', files);\n",
    "}); // Asynchronous form of this method"
   ]
  },
  {
   "cell_type": "markdown",
   "id": "7127fea5",
   "metadata": {},
   "source": [
    "# Event Module"
   ]
  },
  {
   "cell_type": "markdown",
   "id": "0562b6c1",
   "metadata": {},
   "source": [
    "- Event is a signal that indicates that something has happend in our app.\n",
    "\n",
    "- Several classes in node raises different kinds of events.\n",
    "\n",
    "- Class **EventEmitter** is one of the core building blocks in node.\n",
    "\n",
    "- **emit** fuction is used to signaling that a evnet has ocurred\n",
    "\n",
    "- **Listener** is a function that will be called when that event is raised. **addListener** and **on** are the same.\n"
   ]
  },
  {
   "cell_type": "code",
   "execution_count": null,
   "id": "d621c2f0",
   "metadata": {},
   "outputs": [],
   "source": [
    "// app.js\n",
    "//----------------------------------------------------------------------------------------------\n",
    "const EventEmitter = require('events'); //Firts uppercase letter indicates that it is a class\n",
    "const emitter = new EventEmitter(); // instantiation\n",
    "\n",
    "//Registering a Listener\n",
    "\n",
    "//emitter.addListener() // This is the same as emitter.on()\n",
    "emitter.on('messageLogged', function(){\n",
    "    console.log('Listener Called')\n",
    "});\n",
    "\n",
    "// Raise an event\n",
    "emitter.emit('messageLogged') // raise an event.\n",
    "\n",
    "\n",
    "// console\n",
    "//----------------------------------------------\n",
    "// C:\\Users\\sebastian\\Desktop\\nodejs>node app.js\n",
    "\n",
    "// Listener Called\n"
   ]
  },
  {
   "cell_type": "markdown",
   "id": "e1e9d70d",
   "metadata": {},
   "source": [
    "# Event Arguments"
   ]
  },
  {
   "cell_type": "markdown",
   "id": "2cc9e4e0",
   "metadata": {},
   "source": [
    "Additional to *event name*, we can add other arguments to **emit**. These are *id* and *url*"
   ]
  },
  {
   "cell_type": "code",
   "execution_count": null,
   "id": "fdc91a4c",
   "metadata": {},
   "outputs": [],
   "source": [
    "// app.js\n",
    "//----------------------------------------------------------------------------------------------\n",
    "const EventEmitter = require('events'); //Firts uppercase letter indicates that it is a class\n",
    "const emitter = new EventEmitter(); // instantiation\n",
    "\n",
    "//Registering a Listener\n",
    "\n",
    "//emitter.addListener() // This is the same as emitter.on()\n",
    "emitter.on('messageLogged', function(){\n",
    "    console.log('Listener Called');\n",
    "});\n",
    "\n",
    "// Raise an event\n",
    "emitter.emit('messageLogged', 1, 'http//...'); // raise an event.\n"
   ]
  },
  {
   "cell_type": "markdown",
   "id": "1450f503",
   "metadata": {},
   "source": [
    "It is a better practice to encapsulate the arguments inside an object which is called **event argument**. With this technique we can pass data about the event that just happend."
   ]
  },
  {
   "cell_type": "code",
   "execution_count": null,
   "id": "1a028dc2",
   "metadata": {},
   "outputs": [],
   "source": [
    "// app.js\n",
    "//----------------------------------------------------------------------------------------------\n",
    "const EventEmitter = require('events'); //Firts uppercase letter indicates that it is a class\n",
    "const emitter = new EventEmitter(); // instantiation\n",
    "\n",
    "//Registering a Listener\n",
    "\n",
    "//emitter.addListener() // This is the same as emitter.on()\n",
    "emitter.on('messageLogged', function(arg){ // arg, e, eventArg all are used\n",
    "    console.log('Listener Called', arg);\n",
    "});\n",
    "\n",
    "// Raise an event\n",
    "emitter.emit('messageLogged', {id: 1, url: 'http//...'}); // raise an event.\n",
    "\n",
    "// console\n",
    "//----------------------------------------------\n",
    "// C:\\Users\\sebastian\\Desktop\\nodejs>node app.js\n",
    "\n",
    "// Listener Called { id: 1, url: 'http//...' }"
   ]
  },
  {
   "cell_type": "markdown",
   "id": "721b7aea",
   "metadata": {},
   "source": [
    "Simpler way using arrow"
   ]
  },
  {
   "cell_type": "code",
   "execution_count": null,
   "id": "93b5a586",
   "metadata": {},
   "outputs": [],
   "source": [
    "// app.js\n",
    "//----------------------------------------------------------------------------------------------\n",
    "const EventEmitter = require('events'); //Firts uppercase letter indicates that it is a class\n",
    "const emitter = new EventEmitter(); // instantiation\n",
    "\n",
    "//Registering a Listener\n",
    "\n",
    "//emitter.addListener() // This is the same as emitter.on()\n",
    "emitter.on('messageLogged', (arg) => { // arg, e, eventArg all are used\n",
    "    console.log('Listener Called', arg);\n",
    "});\n",
    "\n",
    "// Raise an event\n",
    "emitter.emit('messageLogged', {id: 1, url: 'http//...'}); // raise an event.\n",
    "\n",
    "// console\n",
    "//----------------------------------------------\n",
    "// C:\\Users\\sebastian\\Desktop\\nodejs>node app.js\n",
    "\n",
    "// Listener Called { id: 1, url: 'http//...' }"
   ]
  },
  {
   "cell_type": "markdown",
   "id": "42dd3d30",
   "metadata": {},
   "source": [
    "# Extending EventEmitter"
   ]
  },
  {
   "cell_type": "markdown",
   "id": "226cb011",
   "metadata": {},
   "source": [
    "In this case raise an event inside log function. this will not work properly because emitter object in logger.js is different from emitter object in app.js."
   ]
  },
  {
   "cell_type": "code",
   "execution_count": null,
   "id": "a89ef0fd",
   "metadata": {},
   "outputs": [],
   "source": [
    "// logger.js\n",
    "//-------------------------------------------------------------------------\n",
    "const EventEmitter = require('events');\n",
    "const emitter = new EventEmitter();\n",
    "\n",
    "var url = 'http://mylogger.io/log';\n",
    "\n",
    "function log (message){\n",
    "    // send HTTP request\n",
    "    console.log(message);\n",
    "    \n",
    "    // Raise an event\n",
    "    emitter.emit('messageLogged', {id: 1, url: 'http//...'}); // raise an event.\n",
    "\n",
    "};\n",
    "\n",
    "module.exports = log;\n",
    "\n",
    "\n",
    "/// app.js\n",
    "//----------------------------------------------------------------------------------------------\n",
    "const EventEmitter = require('events'); //Firts uppercase letter indicates that it is a class\n",
    "const emitter = new EventEmitter(); // instantiation\n",
    "\n",
    "//Registering a Listener\n",
    "emitter.on('messageLogged', (arg) => { // arg, e, eventArg all are used\n",
    "    console.log('Listener Called', arg);\n",
    "});\n",
    "\n",
    "const log = require('./logger');\n",
    "log('mensaje')"
   ]
  },
  {
   "cell_type": "markdown",
   "id": "9189e304",
   "metadata": {},
   "source": [
    "To solve the problem, we create a **Logger** class which contains log method. To have **Logger** class all the capabilities of **EventEmitter** we use **extends** keyword followed by the name of the parent of the base class.\n",
    "\n"
   ]
  },
  {
   "cell_type": "code",
   "execution_count": null,
   "id": "71cb2393",
   "metadata": {},
   "outputs": [],
   "source": [
    "// logger.js\n",
    "//-------------------------------------------------------------------------\n",
    "const EventEmitter = require('events');\n",
    "\n",
    "var url = 'http://mylogger.io/log';\n",
    "\n",
    "class Logger extends EventEmitter {\n",
    "    log (message){\n",
    "        // send HTTP request\n",
    "        console.log(message);\n",
    "\n",
    "        // Raise an event\n",
    "        this.emit('messageLogged', {id: 1, url: 'http//...'}); // raise an event.\n",
    "\n",
    "    };\n",
    "}\n",
    "\n",
    "module.exports = Logger;\n",
    "\n",
    "\n",
    "/// app.js\n",
    "//----------------------------------------------------------------------------------------------\n",
    "const EventEmitter = require('events'); //Firts uppercase letter indicates that it is a class\n",
    "\n",
    "const Logger = require('./logger');\n",
    "const logger = new Logger();\n",
    "\n",
    "//Registering a Listener\n",
    "logger.on('messageLogged', (arg) => { // arg, e, eventArg all are used\n",
    "    console.log('Listener Called', arg);\n",
    "});\n",
    "\n",
    "logger.log('mensaje');"
   ]
  },
  {
   "cell_type": "markdown",
   "id": "09fa30e0",
   "metadata": {},
   "source": [
    "# HTTP Module"
   ]
  },
  {
   "cell_type": "markdown",
   "id": "44eee31e",
   "metadata": {},
   "source": [
    "- With tis we can easily create a backend service for client apps like web apps created with react, angular or mobile apps.\n",
    "\n",
    "- Created server with this module is an EventEmitter and has all the capibilities of that Class. \n",
    "\n",
    "- Every time is a new connection or request, this server raises an event; so we an use the on method to handle that event."
   ]
  },
  {
   "cell_type": "code",
   "execution_count": null,
   "id": "c7fc5934",
   "metadata": {},
   "outputs": [],
   "source": [
    "// app.js\n",
    "//--------------------------------------------\n",
    "const http = require('http');\n",
    "\n",
    "const server = http.createServer();\n",
    "\n",
    "server.on('connection', (socket) => {\n",
    "    console.log('New Connection...');\n",
    "});\n",
    "\n",
    "server.listen(3000); // port 3000\n",
    "\n",
    "console.log('Listening on port 3000...');"
   ]
  },
  {
   "attachments": {},
   "cell_type": "markdown",
   "id": "6616d99d",
   "metadata": {},
   "source": [
    "- In real world app, we are not going to respond to the connection event to build an http service.\n",
    "\n",
    "- We pass a callback method to the *http.createServer* method. In this function instead of working with the socket, we can work with the actual request or reponse objects.\n",
    "\n",
    "- **JSON.stringify** converts an array into string using JSON sintax."
   ]
  },
  {
   "cell_type": "code",
   "execution_count": null,
   "id": "65bf6776",
   "metadata": {},
   "outputs": [],
   "source": [
    "// app.js\n",
    "//--------------------------------------------\n",
    "const http = require('http');\n",
    "\n",
    "const server = http.createServer((req, res) => {\n",
    "    if (req.url=='/') {\n",
    "        res.write('Hello World');\n",
    "        res.end();\n",
    "    }\n",
    "    \n",
    "    if (req.url=='/api/courses') {\n",
    "        res.write(JSON.stringify([1, 2, 3]));\n",
    "        res.end();\n",
    "    }\n",
    "});\n",
    "\n",
    "server.listen(3000); // port 3000\n",
    "\n",
    "console.log('Listening on port 3000...');\n",
    "\n",
    "\n",
    "// console\n",
    "//----------------------------------------------\n",
    "// C:\\Users\\sebastian\\Desktop\\nodejs>node app.js\n",
    "\n",
    "// Listening on port 3000...\n"
   ]
  },
  {
   "attachments": {
    "image.png": {
     "image/png": "[encoded data removed]"
    }
   },
   "cell_type": "markdown",
   "id": "90e24706",
   "metadata": {},
   "source": [
    "- After app.js execution, we can connect to the server via browser:\n",
    "![image.png](attachment:image.png)\n",
    "\n",
    "- In real world we are not going to use this http module to build a backend service for web app because as we add more routes (request conditions), the cide gets more complex."
   ]
  },
  {
   "cell_type": "code",
   "execution_count": null,
   "id": "49e82434",
   "metadata": {},
   "outputs": [],
   "source": []
  }
 ],
 "metadata": {
  "kernelspec": {
   "display_name": "JavaScript (Node.js)",
   "language": "javascript",
   "name": "javascript"
  },
  "language_info": {
   "file_extension": ".js",
   "mimetype": "application/javascript",
   "name": "javascript",
   "version": "16.16.0"
  }
 },
 "nbformat": 4,
 "nbformat_minor": 5
}
